{
 "cells": [
  {
   "cell_type": "code",
   "execution_count": 1,
   "metadata": {
    "collapsed": true
   },
   "outputs": [],
   "source": [
    "import pandas as pd\n",
    "import numpy as np\n",
    "import csv\n",
    "import matplotlib as plot\n"
   ]
  },
  {
   "cell_type": "code",
   "execution_count": 2,
   "metadata": {
    "collapsed": true
   },
   "outputs": [],
   "source": [
    "def plot_data(title, data, column_prefixes=None, validate_only=False, nn_curve=False, clear_existing=True,\n",
    "              ylim=None, x_scale='linear', y_scale='linear', legend_name=None,\n",
    "              x_label='Iterations (count)', y_label='Fitness'):\n",
    "\n",
    "    if clear_existing:\n",
    "        plt.close()\n",
    "        plt.figure()\n",
    "        plt.title(title)\n",
    "        if ylim is not None:\n",
    "            plt.ylim(*ylim)\n",
    "        plt.xlabel(x_label)\n",
    "        plt.ylabel(y_label)\n",
    "        plt.grid()\n",
    "        plt.tight_layout()\n",
    "        plt.gcf().subplots_adjust(bottom=0.15)\n",
    "\n",
    "    ax = plt.gca()\n",
    "\n",
    "    if x_scale is not None or y_scale is not None:\n",
    "        if x_scale is not None:\n",
    "            ax.set_xscale(x_scale)\n",
    "        if y_scale is not None:\n",
    "            ax.set_yscale(y_scale)\n",
    "\n",
    "    if column_prefixes is not None:\n",
    "        for i, column_prefix in enumerate(column_prefixes):\n",
    "            if not nn_curve:\n",
    "                mean = data['{}_mean'.format(column_prefix)]\n",
    "                std = data['{}_std'.format(column_prefix)]\n",
    "\n",
    "                plt.fill_between(data.index, mean - std,\n",
    "                                 mean + std, alpha=0.2)\n",
    "                plt.plot(data.index, mean, '-', linewidth=1, markersize=1,\n",
    "                         label=column_prefix)\n",
    "            else:\n",
    "                train = data['{}_f1_trg'.format(column_prefix)]\n",
    "                test = data['{}_f1_tst'.format(column_prefix)]\n",
    "                val = data['{}_f1_val'.format(column_prefix)]\n",
    "                if not validate_only:\n",
    "                    plt.plot(data.index, train, '-', linewidth=1, markersize=1,\n",
    "                             label='Train {} {}'.format(column_prefix, y_label))\n",
    "                    plt.plot(data.index, val, '-', linewidth=1, markersize=1,\n",
    "                             label='CV {} {}'.format(column_prefix, y_label))\n",
    "                else:\n",
    "                    plt.plot(data.index, test, '-', linewidth=1, markersize=1,\n",
    "                             label='{} {}'.format(column_prefix, y_label))\n",
    "\n",
    "    else:\n",
    "        if not nn_curve:\n",
    "            mean = data['mean']\n",
    "            std = data['std']\n",
    "            plt.fill_between(data.index, mean - std,\n",
    "                             mean + std, alpha=0.2)\n",
    "            plt.plot(data.index, mean, '-', linewidth=1, markersize=1, label=None)\n",
    "        else:\n",
    "            train = data['f1_trg']\n",
    "            val = data['f1_val']\n",
    "            plt.plot(data.index, train, '-', linewidth=1, markersize=1,\n",
    "                     label='Train {}'.format(y_label))\n",
    "            plt.plot(data.index, val, '-', linewidth=1, markersize=1,\n",
    "                     label='CV {}'.format(y_label))\n",
    "\n",
    "    plt.legend(title=legend_name, loc=\"best\")\n",
    "    return plt"
   ]
  },
  {
   "cell_type": "code",
   "execution_count": 4,
   "metadata": {},
   "outputs": [],
   "source": [
    "def plot_curve(Xdata,Ydatas,datalabels,title,filename,Xlabel='Iterations',Ylabel='Accuracy/Error'):\n",
    "    \n",
    "    for i in range(len(Ydatas)):\n",
    "        \n",
    "        plt.plot(Xdata,\n",
    "                 Ydatas[i],\n",
    "                 label=datalabels[i])\n",
    "    \n",
    "    \n",
    "    plt.xlabel(Xlabel)\n",
    "    plt.ylabel(Ylabel)\n",
    "    plt.title(title)\n",
    "    plt.legend()\n",
    "    plt.savefig(filename)\n",
    "    plt.show()"
   ]
  },
  {
   "cell_type": "code",
   "execution_count": null,
   "metadata": {
    "collapsed": true
   },
   "outputs": [],
   "source": [
    "bp = pd.read_csv('./ANN/BP/BACKPROP_LOG.csv')\n",
    "Xdata = bp['iteration']\n",
    "Ydatas = bp['acc_trg'],bp['acc_tst'],bp['MSE_tst'],bp['MSE_trg']\n",
    "datalabels = ['acc_trg','acc_tst','MSE_tst','MSE_trg']\n",
    "title = 'Learning curve if Back Propagation'\n",
    "filename = 'BP_PLOT.png'\n",
    "plot_curve(Xdata,Ydatas,datalabels,title,filename)"
   ]
  }
 ],
 "metadata": {
  "kernelspec": {
   "display_name": "Python 3",
   "language": "python",
   "name": "python3"
  },
  "language_info": {
   "codemirror_mode": {
    "name": "ipython",
    "version": 3
   },
   "file_extension": ".py",
   "mimetype": "text/x-python",
   "name": "python",
   "nbconvert_exporter": "python",
   "pygments_lexer": "ipython3",
   "version": "3.6.3"
  }
 },
 "nbformat": 4,
 "nbformat_minor": 2
}
