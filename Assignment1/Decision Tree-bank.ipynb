{
 "cells": [
  {
   "cell_type": "code",
   "execution_count": 1,
   "metadata": {},
   "outputs": [],
   "source": [
    "import os\n",
    "import pandas as pd\n",
    "import numpy as np\n",
    "from sklearn import tree\n",
    "from sklearn import preprocessing\n",
    "from sklearn.model_selection import train_test_split\n",
    "from sklearn.tree import DecisionTreeClassifier\n",
    "import graphviz \n",
    "import matplotlib.pyplot as plt\n",
    "from IPython.display import Image\n",
    "from sklearn.metrics import accuracy_score\n",
    "from sklearn.feature_extraction import DictVectorizer as DV"
   ]
  },
  {
   "cell_type": "code",
   "execution_count": 2,
   "metadata": {},
   "outputs": [
    {
     "name": "stderr",
     "output_type": "stream",
     "text": [
      "C:\\Users\\cluah\\Anaconda3\\lib\\site-packages\\ipykernel_launcher.py:4: FutureWarning: Method .as_matrix will be removed in a future version. Use .values instead.\n",
      "  after removing the cwd from sys.path.\n",
      "C:\\Users\\cluah\\Anaconda3\\lib\\site-packages\\ipykernel_launcher.py:16: FutureWarning: Method .as_matrix will be removed in a future version. Use .values instead.\n",
      "  app.launch_new_instance()\n"
     ]
    }
   ],
   "source": [
    "bank_data = pd.read_csv(\"data/bank-full.csv\",delimiter=';')\n",
    "features = list(bank_data.columns.values)\n",
    "numeric_col = ['age','balance','day','duration','campaign','pdays','previous']\n",
    "x_num_train = bank_data[numeric_col].as_matrix()\n",
    "\n",
    "#categorical columns\n",
    "bank_train = bank_data.drop(numeric_col+['y'],axis = 1)\n",
    "x_bank_train = bank_train.T.to_dict().values()\n",
    "\n",
    "#vectorize\n",
    "vectorizer = DV( sparse = False )\n",
    "vec_x_bank_train = vectorizer.fit_transform( x_bank_train )\n",
    "feature_train = np.hstack(( x_num_train, vec_x_bank_train ))\n",
    "\n",
    "#y\n",
    "label_train = bank_data.as_matrix(columns=['y'])\n",
    "\n",
    "# sample part of data to reduce computing time\n",
    "train_X,test_X,train_y,test_y = train_test_split(feature_train,label_train,test_size=0.5,random_state=0)\n",
    "\n",
    "train_X,test_X,train_y,test_y = train_test_split(train_X,train_y,test_size=0.2,random_state=0)\n",
    "train_X,val_X,train_y,val_y = train_test_split(train_X,train_y,test_size=0.2,random_state=0)\n",
    "\n"
   ]
  },
  {
   "cell_type": "code",
   "execution_count": 3,
   "metadata": {
    "scrolled": true
   },
   "outputs": [],
   "source": [
    "accuracy = dict()\n",
    "best_tree = None\n",
    "best_info = (0,0,None)\n",
    "for d in range(1,40):\n",
    "    clf_gini = DecisionTreeClassifier(criterion = \"gini\", random_state = 0,\n",
    "                               max_depth=d)\n",
    "    clf_gini.fit(train_X,train_y)\n",
    "    \n",
    "    clf_entropy = DecisionTreeClassifier(criterion = \"entropy\", random_state =0,\n",
    "                               max_depth=d)\n",
    "    clf_entropy.fit(train_X,train_y)\n",
    "    \n",
    "    gini_predict = clf_gini.predict(val_X)\n",
    "    entropy_predict = clf_entropy.predict(val_X)\n",
    "    train_gini_predict = clf_gini.predict(train_X)\n",
    "    train_entropy_predict = clf_entropy.predict(train_X)\n",
    "    \n",
    "    g_accuracy = accuracy_score(gini_predict, val_y)\n",
    "    e_accuracy = accuracy_score(entropy_predict,val_y) \n",
    "    train_g_accuracy = accuracy_score(train_gini_predict,train_y)\n",
    "    train_e_accuracy = accuracy_score(train_entropy_predict ,train_y)\n",
    "    accuracy[d] = (g_accuracy,e_accuracy,train_g_accuracy,train_e_accuracy)\n",
    "    \n",
    "    best_temp = (0,None)\n",
    "    if g_accuracy > e_accuracy:\n",
    "        best_temp = (g_accuracy,'gini')\n",
    "    else:\n",
    "        best_temp = (e_accuracy,'entropy')\n",
    "    if best_temp[0] > best_info[0]:\n",
    "        best_info = (best_temp[0],d,best_temp[1])"
   ]
  },
  {
   "cell_type": "code",
   "execution_count": 4,
   "metadata": {},
   "outputs": [
    {
     "name": "stdout",
     "output_type": "stream",
     "text": [
      "depth:  1 , entropy accuracy:  0.881393419961294 , gini accuracy:  0.881393419961294\n",
      "depth:  2 , entropy accuracy:  0.8918993641139066 , gini accuracy:  0.892175836328449\n",
      "depth:  3 , entropy accuracy:  0.9029582526956041 , gini accuracy:  0.9029582526956041\n",
      "depth:  4 , entropy accuracy:  0.8996405861210949 , gini accuracy:  0.9004700027647221\n",
      "depth:  5 , entropy accuracy:  0.9059994470555709 , gini accuracy:  0.9073818081282831\n",
      "depth:  6 , entropy accuracy:  0.8999170583356373 , gini accuracy:  0.9024053082665192\n",
      "depth:  7 , entropy accuracy:  0.8988111694774675 , gini accuracy:  0.8999170583356373\n",
      "depth:  8 , entropy accuracy:  0.8996405861210949 , gini accuracy:  0.9001935305501797\n",
      "depth:  9 , entropy accuracy:  0.8946640862593309 , gini accuracy:  0.8952170306884158\n",
      "depth:  10 , entropy accuracy:  0.8888581697539397 , gini accuracy:  0.8938346696157036\n",
      "depth:  11 , entropy accuracy:  0.8924523085429914 , gini accuracy:  0.8910699474702792\n",
      "depth:  12 , entropy accuracy:  0.8918993641139066 , gini accuracy:  0.8894111141830247\n",
      "depth:  13 , entropy accuracy:  0.8935581974011612 , gini accuracy:  0.8910699474702792\n",
      "depth:  14 , entropy accuracy:  0.8883052253248549 , gini accuracy:  0.8847110865358031\n",
      "depth:  15 , entropy accuracy:  0.8883052253248549 , gini accuracy:  0.8860934476085154\n",
      "depth:  16 , entropy accuracy:  0.8888581697539397 , gini accuracy:  0.8836051976776333\n",
      "depth:  17 , entropy accuracy:  0.8824993088194636 , gini accuracy:  0.8800110588885817\n",
      "depth:  18 , entropy accuracy:  0.8794581144594968 , gini accuracy:  0.8797345866740393\n",
      "depth:  19 , entropy accuracy:  0.8769698645286149 , gini accuracy:  0.8772463367431573\n",
      "depth:  20 , entropy accuracy:  0.8747580868122754 , gini accuracy:  0.8786286978158695\n",
      "depth:  21 , entropy accuracy:  0.87641692009953 , gini accuracy:  0.8758639756704452\n",
      "depth:  22 , entropy accuracy:  0.8747580868122754 , gini accuracy:  0.8777992811722422\n",
      "depth:  23 , entropy accuracy:  0.8742051423831905 , gini accuracy:  0.871993364666851\n",
      "depth:  24 , entropy accuracy:  0.8725463090959359 , gini accuracy:  0.8736521979541056\n",
      "depth:  25 , entropy accuracy:  0.8753110312413602 , gini accuracy:  0.8706110035941388\n",
      "depth:  26 , entropy accuracy:  0.8755875034559026 , gini accuracy:  0.8703345313795964\n",
      "depth:  27 , entropy accuracy:  0.8717168924523085 , gini accuracy:  0.8706110035941388\n",
      "depth:  28 , entropy accuracy:  0.8725463090959359 , gini accuracy:  0.8717168924523085\n",
      "depth:  29 , entropy accuracy:  0.8725463090959359 , gini accuracy:  0.871993364666851\n",
      "depth:  30 , entropy accuracy:  0.8728227813104783 , gini accuracy:  0.8728227813104783\n",
      "depth:  31 , entropy accuracy:  0.8728227813104783 , gini accuracy:  0.8711639480232236\n",
      "depth:  32 , entropy accuracy:  0.8728227813104783 , gini accuracy:  0.8697815869505114\n",
      "depth:  33 , entropy accuracy:  0.8728227813104783 , gini accuracy:  0.8686756980923417\n",
      "depth:  34 , entropy accuracy:  0.8728227813104783 , gini accuracy:  0.8708874758086812\n",
      "depth:  35 , entropy accuracy:  0.8728227813104783 , gini accuracy:  0.8681227536632569\n",
      "depth:  36 , entropy accuracy:  0.8728227813104783 , gini accuracy:  0.8706110035941388\n",
      "depth:  37 , entropy accuracy:  0.8728227813104783 , gini accuracy:  0.8706110035941388\n",
      "depth:  38 , entropy accuracy:  0.8728227813104783 , gini accuracy:  0.8706110035941388\n",
      "depth:  39 , entropy accuracy:  0.8728227813104783 , gini accuracy:  0.8706110035941388\n",
      "best tree: depth:  5 , split function:  gini , accuracy:  0.9073818081282831\n"
     ]
    }
   ],
   "source": [
    "list_g = list()\n",
    "list_e = list()\n",
    "train_list_g = list()\n",
    "train_list_e = list()\n",
    "for k,v in accuracy.items():\n",
    "    print(\"depth: \",k,\", entropy accuracy: \",v[1],\", gini accuracy: \",v[0])\n",
    "    list_g.append(v[0])\n",
    "    list_e.append(v[1])\n",
    "    train_list_g.append(v[2])\n",
    "    train_list_e.append(v[3])\n",
    "print (\"best tree: depth: \",best_info[1],\", split function: \",best_info[2],\", accuracy: \",best_info[0])"
   ]
  },
  {
   "cell_type": "code",
   "execution_count": 5,
   "metadata": {},
   "outputs": [
    {
     "data": {
      "image/png": "[encoded data removed]",
      "text/plain": [
       "<Figure size 432x288 with 1 Axes>"
      ]
     },
     "metadata": {
      "needs_background": "light"
     },
     "output_type": "display_data"
    },
    {
     "data": {
      "text/plain": [
       "<Figure size 432x288 with 0 Axes>"
      ]
     },
     "metadata": {},
     "output_type": "display_data"
    }
   ],
   "source": [
    "plt.plot(range(len(list_e)),list_e,'b-',label=\"(entropy, validation)\")\n",
    "plt.plot(range(len(list_g)),list_g,'r-',label=\"(gini, validation)\")\n",
    "plt.plot(range(len(list_e)),train_list_e,'b:',label=\"(entropy, train)\")\n",
    "plt.plot(range(len(list_g)),train_list_g,'r:',label=\"(gini, train)\")\n",
    "plt.xlabel('depth')\n",
    "plt.ylabel('accuracy')\n",
    "plt.title('plot of accuracy for different trees')\n",
    "plt.legend()\n",
    "plt.axis([0,40,0.5,1.1])\n",
    "plt.show()\n",
    "plt.savefig(\"DT_wine.jpg\")"
   ]
  },
  {
   "cell_type": "code",
   "execution_count": 6,
   "metadata": {},
   "outputs": [
    {
     "name": "stdout",
     "output_type": "stream",
     "text": [
      "bset tree test accurcy:  0.9066578190665782\n"
     ]
    }
   ],
   "source": [
    "clf = DecisionTreeClassifier(criterion = best_info[2], random_state = 0,\n",
    "                               max_depth=best_info[1])\n",
    "clf.fit(train_X,train_y)\n",
    "predict = clf.predict(test_X)\n",
    "accuracy = accuracy_score(predict,test_y)\n",
    "print(\"bset tree test accurcy: \",accuracy)"
   ]
  },
  {
   "cell_type": "code",
   "execution_count": 8,
   "metadata": {
    "scrolled": true
   },
   "outputs": [
    {
     "data": {
      "image/png": "[encoded data removed]",
      "text/plain": [
       "<Figure size 432x288 with 1 Axes>"
      ]
     },
     "metadata": {
      "needs_background": "light"
     },
     "output_type": "display_data"
    }
   ],
   "source": [
    "deep_grow_accuracy = list()\n",
    "middle_grow_accuracy = list()\n",
    "small_grow_accuracy = list()\n",
    "train_1 = list()\n",
    "train_2 = list()\n",
    "train_3 = list()\n",
    "for p in range(10,90):\n",
    "    train_X,test_X,train_y,test_y = train_test_split(feature_train,label_train, random_state=0, test_size= 1-p/100)\n",
    "    \n",
    "    deep_clf_gini = DecisionTreeClassifier(criterion = \"gini\", random_state = 0,\n",
    "                               max_depth=25)\n",
    "    deep_clf_gini.fit(train_X,train_y)\n",
    "    deep_gini_predict = deep_clf_gini.predict(test_X)\n",
    "    deep_g_accuracy =accuracy_score(deep_gini_predict ,test_y) \n",
    "    deep_grow_accuracy.append(deep_g_accuracy)\n",
    "    \n",
    "   \n",
    "    middle_clf_gini = DecisionTreeClassifier(criterion = \"gini\", random_state = 0,\n",
    "                               max_depth=15)\n",
    "    middle_clf_gini.fit(train_X,train_y)\n",
    "    middle_gini_predict = middle_clf_gini.predict(test_X)\n",
    "    middle_g_accuracy = accuracy_score(middle_gini_predict, test_y)\n",
    "    middle_grow_accuracy.append(middle_g_accuracy)\n",
    "    \n",
    "\n",
    "    small_clf_gini = DecisionTreeClassifier(criterion = \"gini\", random_state = 0,\n",
    "                               max_depth=5)\n",
    "    small_clf_gini.fit(train_X,train_y)\n",
    "    small_gini_predict = small_clf_gini.predict(test_X)\n",
    "    small_g_accuracy = accuracy_score(small_gini_predict,test_y)\n",
    "    small_grow_accuracy.append(small_g_accuracy)\n",
    "\n",
    "plt.plot(range(10,90),deep_grow_accuracy,'r-',label=\"(25,test) \")\n",
    "plt.plot(range(10,90),middle_grow_accuracy,'b-',label=\"(15,test)\")\n",
    "plt.plot(range(10,90),small_grow_accuracy,'g-',label=\"(5,test)\")\n",
    "plt.xlabel('training size')\n",
    "plt.ylabel('accuracy')\n",
    "plt.title('plot of decision tree accuracy')\n",
    "plt.axis([10,90,0.5,1.1])\n",
    "plt.legend()\n",
    "plt.show()"
   ]
  },
  {
   "cell_type": "code",
   "execution_count": null,
   "metadata": {},
   "outputs": [],
   "source": []
  }
 ],
 "metadata": {
  "kernelspec": {
   "display_name": "Python 3",
   "language": "python",
   "name": "python3"
  },
  "language_info": {
   "codemirror_mode": {
    "name": "ipython",
    "version": 3
   },
   "file_extension": ".py",
   "mimetype": "text/x-python",
   "name": "python",
   "nbconvert_exporter": "python",
   "pygments_lexer": "ipython3",
   "version": "3.7.1"
  }
 },
 "nbformat": 4,
 "nbformat_minor": 2
}
