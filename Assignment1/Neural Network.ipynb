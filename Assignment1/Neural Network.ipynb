{
 "cells": [
  {
   "cell_type": "code",
   "execution_count": 12,
   "metadata": {
    "collapsed": true
   },
   "outputs": [],
   "source": [
    "import pandas as pd\n",
    "import numpy as np\n",
    "from sklearn import preprocessing\n",
    "from sklearn.neural_network import MLPClassifier\n",
    "from sklearn.model_selection import train_test_split\n",
    "from sklearn.preprocessing import StandardScaler\n",
    "import matplotlib.pyplot as plt\n",
    "from sklearn.metrics import accuracy_score\n",
    "from sklearn.feature_extraction import DictVectorizer as DV"
   ]
  },
  {
   "cell_type": "code",
   "execution_count": 13,
   "metadata": {
    "collapsed": true,
    "scrolled": true
   },
   "outputs": [],
   "source": [
    "# data = pd.read_csv(\"data/titanic_train.csv\")\n",
    "# print(data.shape)\n",
    "# X = data.iloc[:,:11]\n",
    "# y = data.iloc[:,11]\n",
    "# train_X,test_X,train_y,test_y = train_test_split(X, y, random_state=0, test_size=0.15)\n",
    "# train_X,val_X,train_y,val_y = train_test_split(train_X, train_y, random_state=0, test_size=0.2)"
   ]
  },
  {
   "cell_type": "code",
   "execution_count": 19,
   "metadata": {},
   "outputs": [],
   "source": [
    "bank_data = pd.read_csv(\"data/bank-full.csv\",delimiter=';')\n",
    "\n",
    "numeric_col = ['age','balance','day','duration','campaign','pdays','previous']\n",
    "x_num_train = bank_data[numeric_col].as_matrix()\n",
    "\n",
    "#categorical columns\n",
    "bank_train = bank_data.drop(numeric_col+['y'],axis = 1)\n",
    "x_bank_train = bank_train.T.to_dict().values()\n",
    "\n",
    "#vectorize\n",
    "vectorizer = DV( sparse = False )\n",
    "vec_x_bank_train = vectorizer.fit_transform( x_bank_train )\n",
    "feature_train = np.hstack(( x_num_train, vec_x_bank_train ))\n",
    "\n",
    "#y\n",
    "label_train = bank_data.as_matrix(columns=['y'])\n",
    "\n",
    "train_X,test_X,train_y,test_y = train_test_split(feature_train,label_train,test_size=0.8,random_state=0)\n",
    "# sample part of data to reduce computing time\n",
    "#train_X,test_X,train_y,test_y = train_test_split(train_X,train_y,test_size=0.2,random_state=0)\n",
    "train_X,val_X,train_y,val_y = train_test_split(train_X,train_y,test_size=0.2,random_state=0)"
   ]
  },
  {
   "cell_type": "code",
   "execution_count": 20,
   "metadata": {},
   "outputs": [
    {
     "name": "stdout",
     "output_type": "stream",
     "text": [
      "train x shape:  (5786, 51)\n"
     ]
    }
   ],
   "source": [
    "print(\"train x shape: \",train_X.shape)"
   ]
  },
  {
   "cell_type": "code",
   "execution_count": 21,
   "metadata": {},
   "outputs": [
    {
     "name": "stderr",
     "output_type": "stream",
     "text": [
      "/home/jimmy/anaconda3/lib/python3.6/site-packages/sklearn/neural_network/multilayer_perceptron.py:912: DataConversionWarning: A column-vector y was passed when a 1d array was expected. Please change the shape of y to (n_samples, ), for example using ravel().\n",
      "  y = column_or_1d(y, warn=True)\n"
     ]
    },
    {
     "name": "stdout",
     "output_type": "stream",
     "text": [
      "identity lbfgs constant 0.0001 0.758120248791\n",
      "identity lbfgs adaptive 0.0001 0.758120248791\n",
      "identity lbfgs constant 0.001 0.758120248791\n",
      "identity lbfgs adaptive 0.001 0.758120248791\n",
      "identity lbfgs constant 0.01 0.758120248791\n",
      "identity lbfgs adaptive 0.01 0.758120248791\n",
      "identity sgd constant 0.0001 0.807878369039\n",
      "identity sgd adaptive 0.0001 0.866620594333\n",
      "identity sgd constant 0.001 0.807878369039\n",
      "identity sgd adaptive 0.001 0.871458189357\n",
      "identity sgd constant 0.01 0.807878369039\n",
      "identity sgd adaptive 0.01 0.873531444368\n",
      "identity adam constant 0.0001 0.881824464409\n",
      "identity adam adaptive 0.0001 0.881824464409\n",
      "identity adam constant 0.001 0.881133379406\n",
      "identity adam adaptive 0.001 0.881133379406\n",
      "identity adam constant 0.01 0.887353144437\n",
      "identity adam adaptive 0.01 0.887353144437\n",
      "logistic lbfgs constant 0.0001 0.873531444368\n",
      "logistic lbfgs adaptive 0.0001 0.873531444368\n",
      "logistic lbfgs constant 0.001 0.877677954388\n",
      "logistic lbfgs adaptive 0.001 0.877677954388\n",
      "logistic lbfgs constant 0.01 0.877677954388\n",
      "logistic lbfgs adaptive 0.01 0.877677954388\n",
      "logistic sgd constant 0.0001 0.877677954388\n",
      "logistic sgd adaptive 0.0001 0.877677954388\n",
      "logistic sgd constant 0.001 0.877677954388\n",
      "logistic sgd adaptive 0.001 0.877677954388\n",
      "logistic sgd constant 0.01 0.877677954388\n",
      "logistic sgd adaptive 0.01 0.877677954388\n",
      "logistic adam constant 0.0001 0.893572909468\n",
      "logistic adam adaptive 0.0001 0.893572909468\n",
      "logistic adam constant 0.001 0.890808569454\n",
      "logistic adam adaptive 0.001 0.890808569454\n",
      "logistic adam constant 0.01 0.877677954388\n",
      "logistic adam adaptive 0.01 0.877677954388\n",
      "tanh lbfgs constant 0.0001 0.875604699378\n",
      "tanh lbfgs adaptive 0.0001 0.875604699378\n",
      "tanh lbfgs constant 0.001 0.881133379406\n",
      "tanh lbfgs adaptive 0.001 0.881133379406\n",
      "tanh lbfgs constant 0.01 0.879060124395\n",
      "tanh lbfgs adaptive 0.01 0.879060124395\n",
      "tanh sgd constant 0.0001 0.877677954388\n",
      "tanh sgd adaptive 0.0001 0.877677954388\n",
      "tanh sgd constant 0.001 0.877677954388\n",
      "tanh sgd adaptive 0.001 0.877677954388\n",
      "tanh sgd constant 0.01 0.877677954388\n",
      "tanh sgd adaptive 0.01 0.877677954388\n",
      "tanh adam constant 0.0001 0.875604699378\n",
      "tanh adam adaptive 0.0001 0.875604699378\n",
      "tanh adam constant 0.001 0.878369039392\n",
      "tanh adam adaptive 0.001 0.878369039392\n",
      "tanh adam constant 0.01 0.886662059433\n",
      "tanh adam adaptive 0.01 0.886662059433\n",
      "relu lbfgs constant 0.0001 0.886662059433\n",
      "relu lbfgs adaptive 0.0001 0.886662059433\n",
      "relu lbfgs constant 0.001 0.883206634416\n",
      "relu lbfgs adaptive 0.001 0.883206634416\n",
      "relu lbfgs constant 0.01 0.886662059433\n",
      "relu lbfgs adaptive 0.01 0.886662059433\n",
      "relu sgd constant 0.0001 0.874222529371\n",
      "relu sgd adaptive 0.0001 0.877677954388\n",
      "relu sgd constant 0.001 0.874222529371\n",
      "relu sgd adaptive 0.001 0.877677954388\n",
      "relu sgd constant 0.01 0.876986869385\n"
     ]
    },
    {
     "name": "stderr",
     "output_type": "stream",
     "text": [
      "/home/jimmy/anaconda3/lib/python3.6/site-packages/sklearn/neural_network/multilayer_perceptron.py:564: ConvergenceWarning: Stochastic Optimizer: Maximum iterations (200) reached and the optimization hasn't converged yet.\n",
      "  % self.max_iter, ConvergenceWarning)\n"
     ]
    },
    {
     "name": "stdout",
     "output_type": "stream",
     "text": [
      "relu sgd adaptive 0.01 0.877677954388\n",
      "relu adam constant 0.0001 0.882515549413\n",
      "relu adam adaptive 0.0001 0.882515549413\n",
      "relu adam constant 0.001 0.891499654457\n",
      "relu adam adaptive 0.001 0.891499654457\n",
      "relu adam constant 0.01 0.885279889426\n",
      "relu adam adaptive 0.01 0.885279889426\n"
     ]
    }
   ],
   "source": [
    "training_info = list()\n",
    "acti_list = ['identity','logistic', 'tanh', 'relu']\n",
    "s_list = ['lbfgs', 'sgd', 'adam']\n",
    "reg_list = [1e-4,1e-3,1e-2]\n",
    "lr_list = ['constant','adaptive']\n",
    "best_accuracy = 0\n",
    "best_info = (None,None,None,None,None)\n",
    "for acti in acti_list:\n",
    "    for s in s_list:\n",
    "        for reg in reg_list:\n",
    "            for lr in lr_list: \n",
    "                nn = MLPClassifier(activation=acti, solver=s, learning_rate=lr, hidden_layer_sizes=(16), random_state=0,alpha=reg)\n",
    "                nn.fit(train_X,train_y)\n",
    "                predictions = nn.predict(val_X)\n",
    "                accuracy =  accuracy_score(predictions,val_y)\n",
    "                if accuracy > best_accuracy:\n",
    "                    best_info = (acti,s,lr,reg,accuracy)\n",
    "                    best_accuracy = accuracy\n",
    "                print(acti,s,lr,reg,accuracy)\n",
    "                training_info.append((acti,s,lr,reg,accuracy))\n"
   ]
  },
  {
   "cell_type": "code",
   "execution_count": 22,
   "metadata": {},
   "outputs": [
    {
     "name": "stdout",
     "output_type": "stream",
     "text": [
      "('logistic', 'adam', 'constant', 0.0001, 0.8935729094678645)\n"
     ]
    }
   ],
   "source": [
    "print(best_info)"
   ]
  },
  {
   "cell_type": "code",
   "execution_count": 25,
   "metadata": {},
   "outputs": [
    {
     "name": "stderr",
     "output_type": "stream",
     "text": [
      "/home/jimmy/anaconda3/lib/python3.6/site-packages/sklearn/neural_network/multilayer_perceptron.py:912: DataConversionWarning: A column-vector y was passed when a 1d array was expected. Please change the shape of y to (n_samples, ), for example using ravel().\n",
      "  y = column_or_1d(y, warn=True)\n"
     ]
    },
    {
     "name": "stdout",
     "output_type": "stream",
     "text": [
      "identity lbfgs constant 0.0001 0.890808569454\n",
      "identity lbfgs adaptive 0.0001 0.890808569454\n",
      "identity lbfgs constant 0.001 0.890808569454\n",
      "identity lbfgs adaptive 0.001 0.890808569454\n",
      "identity lbfgs constant 0.01 0.890808569454\n",
      "identity lbfgs adaptive 0.01 0.890808569454\n"
     ]
    },
    {
     "name": "stderr",
     "output_type": "stream",
     "text": [
      "/home/jimmy/anaconda3/lib/python3.6/site-packages/sklearn/neural_network/multilayer_perceptron.py:564: ConvergenceWarning: Stochastic Optimizer: Maximum iterations (200) reached and the optimization hasn't converged yet.\n",
      "  % self.max_iter, ConvergenceWarning)\n",
      "/home/jimmy/anaconda3/lib/python3.6/site-packages/sklearn/preprocessing/label.py:614: RuntimeWarning: invalid value encountered in greater\n",
      "  y = np.array(y > threshold, dtype=np.int)\n"
     ]
    },
    {
     "name": "stdout",
     "output_type": "stream",
     "text": [
      "identity sgd constant 0.0001 0.877677954388\n",
      "identity sgd adaptive 0.0001 0.877677954388\n",
      "identity sgd constant 0.001 0.877677954388\n",
      "identity sgd adaptive 0.001 0.877677954388\n",
      "identity sgd constant 0.01 0.877677954388\n",
      "identity sgd adaptive 0.01 0.877677954388\n",
      "identity adam constant 0.0001 0.890808569454\n",
      "identity adam adaptive 0.0001 0.890808569454\n",
      "identity adam constant 0.001 0.796821008984\n",
      "identity adam adaptive 0.001 0.796821008984\n",
      "identity adam constant 0.01 0.875604699378\n",
      "identity adam adaptive 0.01 0.875604699378\n",
      "logistic lbfgs constant 0.0001 0.881133379406\n",
      "logistic lbfgs adaptive 0.0001 0.881133379406\n",
      "logistic lbfgs constant 0.001 0.876986869385\n",
      "logistic lbfgs adaptive 0.001 0.876986869385\n",
      "logistic lbfgs constant 0.01 0.872149274361\n",
      "logistic lbfgs adaptive 0.01 0.872149274361\n",
      "logistic sgd constant 0.0001 0.877677954388\n",
      "logistic sgd adaptive 0.0001 0.877677954388\n",
      "logistic sgd constant 0.001 0.877677954388\n",
      "logistic sgd adaptive 0.001 0.877677954388\n",
      "logistic sgd constant 0.01 0.877677954388\n",
      "logistic sgd adaptive 0.01 0.877677954388\n",
      "logistic adam constant 0.0001 0.891499654457\n",
      "logistic adam adaptive 0.0001 0.891499654457\n",
      "logistic adam constant 0.001 0.897028334485\n",
      "logistic adam adaptive 0.001 0.897028334485\n",
      "logistic adam constant 0.01 0.891499654457\n",
      "logistic adam adaptive 0.01 0.891499654457\n",
      "tanh lbfgs constant 0.0001 0.879060124395\n",
      "tanh lbfgs adaptive 0.0001 0.879060124395\n",
      "tanh lbfgs constant 0.001 0.887353144437\n",
      "tanh lbfgs adaptive 0.001 0.887353144437\n",
      "tanh lbfgs constant 0.01 0.887353144437\n",
      "tanh lbfgs adaptive 0.01 0.887353144437\n",
      "tanh sgd constant 0.0001 0.877677954388\n",
      "tanh sgd adaptive 0.0001 0.877677954388\n",
      "tanh sgd constant 0.001 0.877677954388\n",
      "tanh sgd adaptive 0.001 0.877677954388\n",
      "tanh sgd constant 0.01 0.877677954388\n",
      "tanh sgd adaptive 0.01 0.877677954388\n",
      "tanh adam constant 0.0001 0.879060124395\n",
      "tanh adam adaptive 0.0001 0.879060124395\n",
      "tanh adam constant 0.001 0.882515549413\n",
      "tanh adam adaptive 0.001 0.882515549413\n",
      "tanh adam constant 0.01 0.880442294402\n",
      "tanh adam adaptive 0.01 0.880442294402\n",
      "relu lbfgs constant 0.0001 0.883206634416\n",
      "relu lbfgs adaptive 0.0001 0.883206634416\n",
      "relu lbfgs constant 0.001 0.884588804423\n",
      "relu lbfgs adaptive 0.001 0.884588804423\n",
      "relu lbfgs constant 0.01 0.878369039392\n",
      "relu lbfgs adaptive 0.01 0.878369039392\n",
      "relu sgd constant 0.0001 0.877677954388\n",
      "relu sgd adaptive 0.0001 0.877677954388\n",
      "relu sgd constant 0.001 0.877677954388\n",
      "relu sgd adaptive 0.001 0.877677954388\n",
      "relu sgd constant 0.01 0.877677954388\n",
      "relu sgd adaptive 0.01 0.877677954388\n",
      "relu adam constant 0.0001 0.893572909468\n",
      "relu adam adaptive 0.0001 0.893572909468\n",
      "relu adam constant 0.001 0.878369039392\n",
      "relu adam adaptive 0.001 0.878369039392\n",
      "relu adam constant 0.01 0.883206634416\n",
      "relu adam adaptive 0.01 0.883206634416\n"
     ]
    }
   ],
   "source": [
    "training_info = list()\n",
    "acti_list = ['identity','logistic', 'tanh', 'relu']\n",
    "s_list = ['lbfgs', 'sgd', 'adam']\n",
    "reg_list = [1e-4,1e-3,1e-2]\n",
    "lr_list = ['constant','adaptive']\n",
    "best_accuracy = 0\n",
    "best_info = (None,None,None,None,None)\n",
    "for acti in acti_list:\n",
    "    for s in s_list:\n",
    "        for reg in reg_list:\n",
    "            for lr in lr_list: \n",
    "                nn = MLPClassifier(activation=acti, solver=s, learning_rate=lr, hidden_layer_sizes=(16,8), random_state=0,alpha=reg)\n",
    "                nn.fit(train_X,train_y)\n",
    "                predictions = nn.predict(val_X)\n",
    "                accuracy = accuracy_score(predictions,val_y)\n",
    "                if accuracy > best_accuracy:\n",
    "                    best_info = (acti,s,lr,reg,accuracy)\n",
    "                    best_accuracy = accuracy\n",
    "                print(acti,s,lr,reg,accuracy)\n",
    "                training_info.append((acti,s,lr,reg,accuracy))\n"
   ]
  },
  {
   "cell_type": "code",
   "execution_count": 26,
   "metadata": {},
   "outputs": [
    {
     "name": "stdout",
     "output_type": "stream",
     "text": [
      "('logistic', 'adam', 'constant', 0.001, 0.89702833448514163)\n"
     ]
    }
   ],
   "source": [
    "print(best_info)"
   ]
  },
  {
   "cell_type": "code",
   "execution_count": 29,
   "metadata": {
    "scrolled": true
   },
   "outputs": [
    {
     "name": "stderr",
     "output_type": "stream",
     "text": [
      "/home/jimmy/anaconda3/lib/python3.6/site-packages/sklearn/neural_network/multilayer_perceptron.py:912: DataConversionWarning: A column-vector y was passed when a 1d array was expected. Please change the shape of y to (n_samples, ), for example using ravel().\n",
      "  y = column_or_1d(y, warn=True)\n"
     ]
    },
    {
     "name": "stdout",
     "output_type": "stream",
     "text": [
      "0.875621890547\n"
     ]
    }
   ],
   "source": [
    "nn = MLPClassifier(activation='tanh', solver='adam', learning_rate='constant', hidden_layer_sizes=(16), random_state=0,alpha=0.0001)\n",
    "nn.fit(train_X,train_y)\n",
    "print(accuracy_score(nn.predict(test_X),test_y))"
   ]
  },
  {
   "cell_type": "code",
   "execution_count": 31,
   "metadata": {},
   "outputs": [
    {
     "name": "stderr",
     "output_type": "stream",
     "text": [
      "/home/jimmy/anaconda3/lib/python3.6/site-packages/sklearn/neural_network/multilayer_perceptron.py:912: DataConversionWarning: A column-vector y was passed when a 1d array was expected. Please change the shape of y to (n_samples, ), for example using ravel().\n",
      "  y = column_or_1d(y, warn=True)\n"
     ]
    },
    {
     "name": "stdout",
     "output_type": "stream",
     "text": [
      "0.881149806523\n"
     ]
    }
   ],
   "source": [
    "nn = MLPClassifier(activation='tanh', solver='lbfgs', learning_rate='constant', hidden_layer_sizes=(16,8), random_state=0,alpha=0.001)\n",
    "nn.fit(train_X,train_y)\n",
    "print(accuracy_score(nn.predict(test_X),test_y))"
   ]
  },
  {
   "cell_type": "code",
   "execution_count": null,
   "metadata": {
    "collapsed": true
   },
   "outputs": [],
   "source": []
  }
 ],
 "metadata": {
  "kernelspec": {
   "display_name": "Python 3",
   "language": "python",
   "name": "python3"
  },
  "language_info": {
   "codemirror_mode": {
    "name": "ipython",
    "version": 3
   },
   "file_extension": ".py",
   "mimetype": "text/x-python",
   "name": "python",
   "nbconvert_exporter": "python",
   "pygments_lexer": "ipython3",
   "version": "3.6.3"
  }
 },
 "nbformat": 4,
 "nbformat_minor": 2
}
