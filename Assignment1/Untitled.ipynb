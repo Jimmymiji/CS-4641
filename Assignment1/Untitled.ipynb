{
 "cells": [
  {
   "cell_type": "code",
   "execution_count": 1,
   "metadata": {
    "collapsed": true
   },
   "outputs": [],
   "source": [
    "import pandas as pd\n",
    "import numpy as np\n",
    "from sklearn import preprocessing\n",
    "from sklearn.neighbors import KNeighborsClassifier\n",
    "from sklearn.model_selection import train_test_split\n",
    "import matplotlib.pyplot as plt"
   ]
  },
  {
   "cell_type": "code",
   "execution_count": 2,
   "metadata": {},
   "outputs": [
    {
     "name": "stdout",
     "output_type": "stream",
     "text": [
      "(3918, 13)\n"
     ]
    }
   ],
   "source": [
    "data = pd.read_csv(\"data/winequality.csv\")\n",
    "print(data.shape)\n",
    "X = data.iloc[:,:11]\n",
    "y = data.iloc[:,11]\n",
    "train_X,test_X,train_y,test_y = train_test_split(X, y, random_state=0, test_size=0.25)\n"
   ]
  },
  {
   "cell_type": "code",
   "execution_count": 3,
   "metadata": {
    "collapsed": true
   },
   "outputs": [],
   "source": [
    "K_accuracy = dict()"
   ]
  },
  {
   "cell_type": "code",
   "execution_count": 4,
   "metadata": {},
   "outputs": [],
   "source": [
    "K_list = [1,3,5,7,9,11,13,15,17,19,21,23,25,27,29,31,33,35]\n",
    "for k in K_list:\n",
    "    model = KNeighborsClassifier(n_neighbors=k)\n",
    "    model.fit(train_X,train_y)\n",
    "    predicted= model.predict(test_X)\n",
    "    test_accuracy = np.sum(predicted == test_y) / test_y.shape[0]\n",
    "    K_accuracy[k] = test_accuracy"
   ]
  },
  {
   "cell_type": "code",
   "execution_count": 5,
   "metadata": {},
   "outputs": [
    {
     "name": "stdout",
     "output_type": "stream",
     "text": [
      "k =  1  accuracy =  0.533673469388\n",
      "k =  3  accuracy =  0.447959183673\n",
      "k =  5  accuracy =  0.447959183673\n",
      "k =  7  accuracy =  0.455102040816\n",
      "k =  9  accuracy =  0.451020408163\n",
      "k =  11  accuracy =  0.430612244898\n",
      "k =  13  accuracy =  0.435714285714\n",
      "k =  15  accuracy =  0.421428571429\n",
      "k =  17  accuracy =  0.422448979592\n",
      "k =  19  accuracy =  0.422448979592\n",
      "k =  21  accuracy =  0.439795918367\n",
      "k =  23  accuracy =  0.428571428571\n",
      "k =  25  accuracy =  0.431632653061\n",
      "k =  27  accuracy =  0.427551020408\n",
      "k =  29  accuracy =  0.442857142857\n",
      "k =  31  accuracy =  0.434693877551\n",
      "k =  33  accuracy =  0.433673469388\n",
      "k =  35  accuracy =  0.438775510204\n"
     ]
    }
   ],
   "source": [
    "for k,v in K_accuracy.items():\n",
    "    print(\"k = \",k,\" accuracy = \",v)"
   ]
  },
  {
   "cell_type": "code",
   "execution_count": 6,
   "metadata": {},
   "outputs": [
    {
     "name": "stdout",
     "output_type": "stream",
     "text": [
      "k =  1  accuracy =  0.533673469388\n",
      "k =  7  accuracy =  0.455102040816\n",
      "k =  9  accuracy =  0.451020408163\n",
      "k =  3  accuracy =  0.447959183673\n",
      "k =  5  accuracy =  0.447959183673\n",
      "k =  29  accuracy =  0.442857142857\n",
      "k =  21  accuracy =  0.439795918367\n",
      "k =  35  accuracy =  0.438775510204\n",
      "k =  13  accuracy =  0.435714285714\n",
      "k =  31  accuracy =  0.434693877551\n",
      "k =  33  accuracy =  0.433673469388\n",
      "k =  25  accuracy =  0.431632653061\n",
      "k =  11  accuracy =  0.430612244898\n",
      "k =  23  accuracy =  0.428571428571\n",
      "k =  27  accuracy =  0.427551020408\n",
      "k =  17  accuracy =  0.422448979592\n",
      "k =  19  accuracy =  0.422448979592\n",
      "k =  15  accuracy =  0.421428571429\n"
     ]
    }
   ],
   "source": [
    "sorted_K_accuracy = sorted(K_accuracy.items(), key=lambda kv: kv[1],reverse=True)\n",
    "for k,v in sorted_K_accuracy:\n",
    "    print(\"k = \",k,\" accuracy = \",v)"
   ]
  },
  {
   "cell_type": "code",
   "execution_count": 7,
   "metadata": {},
   "outputs": [],
   "source": [
    "x = X.values \n",
    "scaler = preprocessing.StandardScaler()\n",
    "x_scaled = scaler.fit_transform(x)\n",
    "\n",
    "y = y.values\n",
    "\n",
    "train_X,test_X,train_y,test_y = train_test_split(x_scaled, y, random_state=0, test_size=0.25)"
   ]
  },
  {
   "cell_type": "code",
   "execution_count": 8,
   "metadata": {
    "collapsed": true
   },
   "outputs": [],
   "source": [
    "K_accuracy_nor = dict()"
   ]
  },
  {
   "cell_type": "code",
   "execution_count": 9,
   "metadata": {
    "collapsed": true
   },
   "outputs": [],
   "source": [
    "K_list = [1,3,5,7,9,11,13,15,17,19,21,23,25,27,29,31,33,35]\n",
    "for k in K_list:\n",
    "    model = KNeighborsClassifier(n_neighbors=k)\n",
    "    model.fit(train_X,train_y)\n",
    "    predicted= model.predict(test_X)\n",
    "    test_accuracy = np.sum(predicted == test_y) / test_y.shape[0]\n",
    "    K_accuracy[k] = test_accuracy"
   ]
  },
  {
   "cell_type": "code",
   "execution_count": 10,
   "metadata": {},
   "outputs": [
    {
     "name": "stdout",
     "output_type": "stream",
     "text": [
      "k =  1  accuracy =  0.602040816327\n",
      "k =  3  accuracy =  0.524489795918\n",
      "k =  5  accuracy =  0.523469387755\n",
      "k =  7  accuracy =  0.527551020408\n",
      "k =  9  accuracy =  0.532653061224\n",
      "k =  11  accuracy =  0.531632653061\n",
      "k =  13  accuracy =  0.534693877551\n",
      "k =  15  accuracy =  0.545918367347\n",
      "k =  17  accuracy =  0.555102040816\n",
      "k =  19  accuracy =  0.560204081633\n",
      "k =  21  accuracy =  0.561224489796\n",
      "k =  23  accuracy =  0.559183673469\n",
      "k =  25  accuracy =  0.554081632653\n",
      "k =  27  accuracy =  0.555102040816\n",
      "k =  29  accuracy =  0.55612244898\n",
      "k =  31  accuracy =  0.55\n",
      "k =  33  accuracy =  0.545918367347\n",
      "k =  35  accuracy =  0.540816326531\n"
     ]
    }
   ],
   "source": [
    "for k,v in K_accuracy.items():\n",
    "    print(\"k = \",k,\" accuracy = \",v)"
   ]
  },
  {
   "cell_type": "code",
   "execution_count": 11,
   "metadata": {},
   "outputs": [
    {
     "name": "stdout",
     "output_type": "stream",
     "text": [
      "k =  1  accuracy =  0.602040816327\n",
      "k =  21  accuracy =  0.561224489796\n",
      "k =  19  accuracy =  0.560204081633\n",
      "k =  23  accuracy =  0.559183673469\n",
      "k =  29  accuracy =  0.55612244898\n",
      "k =  17  accuracy =  0.555102040816\n",
      "k =  27  accuracy =  0.555102040816\n",
      "k =  25  accuracy =  0.554081632653\n",
      "k =  31  accuracy =  0.55\n",
      "k =  15  accuracy =  0.545918367347\n",
      "k =  33  accuracy =  0.545918367347\n",
      "k =  35  accuracy =  0.540816326531\n",
      "k =  13  accuracy =  0.534693877551\n",
      "k =  9  accuracy =  0.532653061224\n",
      "k =  11  accuracy =  0.531632653061\n",
      "k =  7  accuracy =  0.527551020408\n",
      "k =  3  accuracy =  0.524489795918\n",
      "k =  5  accuracy =  0.523469387755\n"
     ]
    }
   ],
   "source": [
    "sorted_K_accuracy = sorted(K_accuracy.items(), key=lambda kv: kv[1],reverse=True)\n",
    "for k,v in sorted_K_accuracy:\n",
    "    print(\"k = \",k,\" accuracy = \",v)"
   ]
  },
  {
   "cell_type": "code",
   "execution_count": null,
   "metadata": {
    "collapsed": true
   },
   "outputs": [],
   "source": []
  },
  {
   "cell_type": "code",
   "execution_count": null,
   "metadata": {
    "collapsed": true
   },
   "outputs": [],
   "source": []
  }
 ],
 "metadata": {
  "kernelspec": {
   "display_name": "Python 3",
   "language": "python",
   "name": "python3"
  },
  "language_info": {
   "codemirror_mode": {
    "name": "ipython",
    "version": 3
   },
   "file_extension": ".py",
   "mimetype": "text/x-python",
   "name": "python",
   "nbconvert_exporter": "python",
   "pygments_lexer": "ipython3",
   "version": "3.6.3"
  }
 },
 "nbformat": 4,
 "nbformat_minor": 2
}
