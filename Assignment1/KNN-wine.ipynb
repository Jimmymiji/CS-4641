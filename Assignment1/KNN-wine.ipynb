{
 "cells": [
  {
   "cell_type": "code",
   "execution_count": 33,
   "metadata": {
    "collapsed": true
   },
   "outputs": [],
   "source": [
    "import time\n",
    "import pandas as pd\n",
    "import numpy as np\n",
    "from sklearn import preprocessing\n",
    "from sklearn.neighbors import KNeighborsClassifier\n",
    "from sklearn.model_selection import train_test_split\n",
    "import matplotlib.pyplot as plt\n",
    "from sklearn.metrics import accuracy_score\n",
    "from sklearn.model_selection import cross_val_score"
   ]
  },
  {
   "cell_type": "code",
   "execution_count": 34,
   "metadata": {},
   "outputs": [
    {
     "name": "stdout",
     "output_type": "stream",
     "text": [
      "(3918, 13)\n"
     ]
    }
   ],
   "source": [
    "data = pd.read_csv(\"data/winequality.csv\")\n",
    "print(data.shape)\n",
    "X = data.iloc[:,:11]\n",
    "y = data.iloc[:,11]\n",
    "x = X.values  \n",
    "y = y.values \n",
    "# scaler = preprocessing.StandardScaler()\n",
    "# x_scaled = scaler.fit_transform(x)\n",
    "\n",
    "train_X,test_X,train_y,test_y = train_test_split(X, y, random_state=0, test_size=0.15)\n",
    "#train_X,val_X,train_y,val_y = train_test_split(train_X, train_y, random_state=0, test_size=0.2)"
   ]
  },
  {
   "cell_type": "code",
   "execution_count": 35,
   "metadata": {
    "collapsed": true
   },
   "outputs": [],
   "source": [
    "K_accuracy = dict()"
   ]
  },
  {
   "cell_type": "code",
   "execution_count": 36,
   "metadata": {
    "collapsed": true
   },
   "outputs": [],
   "source": [
    "t_list = list()\n",
    "for k in range(1,40):\n",
    "    model = KNeighborsClassifier(n_neighbors=k)\n",
    "    model.fit(train_X,train_y)\n",
    "    #predicted= model.predict(val_X)\n",
    "    tpredicted= model.predict(train_X)\n",
    "    val_accuracy = cross_val_score(model, train_X,train_y, cv=3).mean()\n",
    "    t_accuracy = np.sum(tpredicted == train_y) / train_y.shape[0]\n",
    "    t_list.append(t_accuracy)\n",
    "    K_accuracy[k] = val_accuracy"
   ]
  },
  {
   "cell_type": "code",
   "execution_count": 37,
   "metadata": {},
   "outputs": [
    {
     "name": "stdout",
     "output_type": "stream",
     "text": [
      "k =  1  accuracy =  0.518611648944\n",
      "k =  2  accuracy =  0.460972997487\n",
      "k =  3  accuracy =  0.438138443994\n",
      "k =  4  accuracy =  0.443530619902\n",
      "k =  5  accuracy =  0.450751653805\n",
      "k =  6  accuracy =  0.450746787455\n",
      "k =  7  accuracy =  0.44925908775\n",
      "k =  8  accuracy =  0.440856339489\n",
      "k =  9  accuracy =  0.435439542521\n",
      "k =  10  accuracy =  0.441747231546\n",
      "k =  11  accuracy =  0.431243449207\n",
      "k =  12  accuracy =  0.431826982488\n",
      "k =  13  accuracy =  0.428832628052\n",
      "k =  14  accuracy =  0.442332104133\n",
      "k =  15  accuracy =  0.435722491553\n",
      "k =  16  accuracy =  0.446236845273\n",
      "k =  17  accuracy =  0.436030924699\n",
      "k =  18  accuracy =  0.436329595897\n",
      "k =  19  accuracy =  0.445035641142\n",
      "k =  20  accuracy =  0.440842790436\n",
      "k =  21  accuracy =  0.449234977065\n",
      "k =  22  accuracy =  0.454347956924\n",
      "k =  23  accuracy =  0.450744614342\n",
      "k =  24  accuracy =  0.454352563212\n",
      "k =  25  accuracy =  0.450141027292\n",
      "k =  26  accuracy =  0.451343310668\n",
      "k =  27  accuracy =  0.447139084022\n",
      "k =  28  accuracy =  0.445632973788\n",
      "k =  29  accuracy =  0.451640088313\n",
      "k =  30  accuracy =  0.449245533822\n",
      "k =  31  accuracy =  0.45043833481\n",
      "k =  32  accuracy =  0.450750285251\n",
      "k =  33  accuracy =  0.451656619913\n",
      "k =  34  accuracy =  0.455567301773\n",
      "k =  35  accuracy =  0.449852098544\n",
      "k =  36  accuracy =  0.451058718396\n",
      "k =  37  accuracy =  0.455559987624\n",
      "k =  38  accuracy =  0.454058213868\n",
      "k =  39  accuracy =  0.449851823858\n"
     ]
    },
    {
     "data": {
      "image/png": "[encoded data removed]",
      "text/plain": [
       "<matplotlib.figure.Figure at 0x7f30d1a146a0>"
      ]
     },
     "metadata": {},
     "output_type": "display_data"
    }
   ],
   "source": [
    "for k,v in K_accuracy.items():\n",
    "    print(\"k = \",k,\" accuracy = \",v)\n",
    "\n",
    "plt.plot(range(1,40),K_accuracy.values(),label=\"validation\")\n",
    "plt.plot(range(1,40),t_list,label=\"training\")\n",
    "plt.xlabel('K value')\n",
    "plt.ylabel('accuracy')\n",
    "plt.title('plot of KNN accuracy for different K value')\n",
    "plt.legend()\n",
    "plt.savefig(\"KNN_wine_1.jpg\")\n",
    "plt.show()"
   ]
  },
  {
   "cell_type": "code",
   "execution_count": 38,
   "metadata": {},
   "outputs": [
    {
     "name": "stdout",
     "output_type": "stream",
     "text": [
      "k =  1  accuracy =  0.518611648944\n",
      "k =  2  accuracy =  0.460972997487\n",
      "k =  34  accuracy =  0.455567301773\n",
      "k =  37  accuracy =  0.455559987624\n",
      "k =  24  accuracy =  0.454352563212\n",
      "k =  22  accuracy =  0.454347956924\n",
      "k =  38  accuracy =  0.454058213868\n",
      "k =  33  accuracy =  0.451656619913\n",
      "k =  29  accuracy =  0.451640088313\n",
      "k =  26  accuracy =  0.451343310668\n",
      "k =  36  accuracy =  0.451058718396\n",
      "k =  5  accuracy =  0.450751653805\n",
      "k =  32  accuracy =  0.450750285251\n",
      "k =  6  accuracy =  0.450746787455\n",
      "k =  23  accuracy =  0.450744614342\n",
      "k =  31  accuracy =  0.45043833481\n",
      "k =  25  accuracy =  0.450141027292\n",
      "k =  35  accuracy =  0.449852098544\n",
      "k =  39  accuracy =  0.449851823858\n",
      "k =  7  accuracy =  0.44925908775\n",
      "k =  30  accuracy =  0.449245533822\n",
      "k =  21  accuracy =  0.449234977065\n",
      "k =  27  accuracy =  0.447139084022\n",
      "k =  16  accuracy =  0.446236845273\n",
      "k =  28  accuracy =  0.445632973788\n",
      "k =  19  accuracy =  0.445035641142\n",
      "k =  4  accuracy =  0.443530619902\n",
      "k =  14  accuracy =  0.442332104133\n",
      "k =  10  accuracy =  0.441747231546\n",
      "k =  8  accuracy =  0.440856339489\n",
      "k =  20  accuracy =  0.440842790436\n",
      "k =  3  accuracy =  0.438138443994\n",
      "k =  18  accuracy =  0.436329595897\n",
      "k =  17  accuracy =  0.436030924699\n",
      "k =  15  accuracy =  0.435722491553\n",
      "k =  9  accuracy =  0.435439542521\n",
      "k =  12  accuracy =  0.431826982488\n",
      "k =  11  accuracy =  0.431243449207\n",
      "k =  13  accuracy =  0.428832628052\n"
     ]
    }
   ],
   "source": [
    "sorted_K_accuracy = sorted(K_accuracy.items(), key=lambda kv: kv[1],reverse=True)\n",
    "for k,v in sorted_K_accuracy:\n",
    "    print(\"k = \",k,\" accuracy = \",v)\n"
   ]
  },
  {
   "cell_type": "code",
   "execution_count": 39,
   "metadata": {},
   "outputs": [
    {
     "data": {
      "image/png": "[encoded data removed]",
      "text/plain": [
       "<matplotlib.figure.Figure at 0x7f30d198b978>"
      ]
     },
     "metadata": {},
     "output_type": "display_data"
    }
   ],
   "source": [
    "list1=[]\n",
    "list2=[]\n",
    "for i in range(20,80):\n",
    "    clf = KNeighborsClassifier(n_neighbors=1, weights=\"distance\")\n",
    "    \n",
    "    X_train, X_test, y_train, y_test = train_test_split(X, y, random_state=0, test_size=1-i/100)\n",
    "    clf.fit(X_train, y_train)\n",
    "    train_predict = clf.predict(X_train)\n",
    "    test_predict = clf.predict(X_test)\n",
    "    list1.append(accuracy_score(y_train, train_predict))\n",
    "    list2.append(accuracy_score(y_test, test_predict))\n",
    "plt.plot(range(len(list2)),list2,label='validation')\n",
    "plt.plot(range(len(list1)),list1,label='train')\n",
    "plt.xlabel('training size %')\n",
    "plt.ylabel('accuracy')\n",
    "plt.title('plot of learning curve of KNN')\n",
    "plt.legend()\n",
    "plt.savefig(\"KNN_wine_2.jpg\")\n",
    "plt.show()"
   ]
  },
  {
   "cell_type": "code",
   "execution_count": 40,
   "metadata": {},
   "outputs": [
    {
     "name": "stdout",
     "output_type": "stream",
     "text": [
      "knn model accuracy:  0.522108843537 time used:  0.00899700000000081\n"
     ]
    }
   ],
   "source": [
    "start = time.clock()\n",
    "model = KNeighborsClassifier(n_neighbors=1)\n",
    "model.fit(train_X,train_y)\n",
    "test_accuracy = accuracy_score(model.predict(test_X),test_y)\n",
    "elapsed = (time.clock() - start)\n",
    "print(\"knn model accuracy: \",test_accuracy,\"time used: \",elapsed)"
   ]
  },
  {
   "cell_type": "code",
   "execution_count": null,
   "metadata": {
    "collapsed": true
   },
   "outputs": [],
   "source": []
  },
  {
   "cell_type": "code",
   "execution_count": null,
   "metadata": {
    "collapsed": true
   },
   "outputs": [],
   "source": []
  }
 ],
 "metadata": {
  "kernelspec": {
   "display_name": "Python 3",
   "language": "python",
   "name": "python3"
  },
  "language_info": {
   "codemirror_mode": {
    "name": "ipython",
    "version": 3
   },
   "file_extension": ".py",
   "mimetype": "text/x-python",
   "name": "python",
   "nbconvert_exporter": "python",
   "pygments_lexer": "ipython3",
   "version": "3.6.3"
  }
 },
 "nbformat": 4,
 "nbformat_minor": 2
}
