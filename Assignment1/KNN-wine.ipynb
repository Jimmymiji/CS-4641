{
 "cells": [
  {
   "cell_type": "code",
   "execution_count": 10,
   "metadata": {},
   "outputs": [],
   "source": [
    "import time\n",
    "import pandas as pd\n",
    "import numpy as np\n",
    "from sklearn import preprocessing\n",
    "from sklearn.neighbors import KNeighborsClassifier\n",
    "from sklearn.model_selection import train_test_split\n",
    "import matplotlib.pyplot as plt\n",
    "from sklearn.metrics import accuracy_score"
   ]
  },
  {
   "cell_type": "code",
   "execution_count": 2,
   "metadata": {},
   "outputs": [
    {
     "name": "stdout",
     "output_type": "stream",
     "text": [
      "(3918, 13)\n"
     ]
    }
   ],
   "source": [
    "data = pd.read_csv(\"data/winequality.csv\")\n",
    "print(data.shape)\n",
    "X = data.iloc[:,:11]\n",
    "y = data.iloc[:,11]\n",
    "x = X.values  \n",
    "y = y.values \n",
    "scaler = preprocessing.StandardScaler()\n",
    "x_scaled = scaler.fit_transform(x)\n",
    "\n",
    "train_X,test_X,train_y,test_y = train_test_split(X, y, random_state=0, test_size=0.15)\n",
    "train_X,val_X,train_y,val_y = train_test_split(train_X, train_y, random_state=0, test_size=0.2)"
   ]
  },
  {
   "cell_type": "code",
   "execution_count": 3,
   "metadata": {},
   "outputs": [],
   "source": [
    "K_accuracy = dict()"
   ]
  },
  {
   "cell_type": "code",
   "execution_count": 4,
   "metadata": {},
   "outputs": [],
   "source": [
    "for k in range(1,40):\n",
    "    model = KNeighborsClassifier(n_neighbors=k)\n",
    "    model.fit(train_X,train_y)\n",
    "    predicted= model.predict(val_X)\n",
    "    val_accuracy = np.sum(predicted == val_y) / val_y.shape[0]\n",
    "    K_accuracy[k] = val_accuracy"
   ]
  },
  {
   "cell_type": "code",
   "execution_count": 6,
   "metadata": {},
   "outputs": [
    {
     "name": "stdout",
     "output_type": "stream",
     "text": [
      "k =  1  accuracy =  0.512012012012012\n",
      "k =  2  accuracy =  0.43843843843843844\n",
      "k =  3  accuracy =  0.44744744744744747\n",
      "k =  4  accuracy =  0.45345345345345345\n",
      "k =  5  accuracy =  0.43843843843843844\n",
      "k =  6  accuracy =  0.44894894894894893\n",
      "k =  7  accuracy =  0.4369369369369369\n",
      "k =  8  accuracy =  0.44144144144144143\n",
      "k =  9  accuracy =  0.43093093093093093\n",
      "k =  10  accuracy =  0.44894894894894893\n",
      "k =  11  accuracy =  0.44144144144144143\n",
      "k =  12  accuracy =  0.45045045045045046\n",
      "k =  13  accuracy =  0.4369369369369369\n",
      "k =  14  accuracy =  0.42492492492492495\n",
      "k =  15  accuracy =  0.44144144144144143\n",
      "k =  16  accuracy =  0.43243243243243246\n",
      "k =  17  accuracy =  0.4444444444444444\n",
      "k =  18  accuracy =  0.43543543543543545\n",
      "k =  19  accuracy =  0.43843843843843844\n",
      "k =  20  accuracy =  0.44294294294294295\n",
      "k =  21  accuracy =  0.4444444444444444\n",
      "k =  22  accuracy =  0.44144144144144143\n",
      "k =  23  accuracy =  0.44144144144144143\n",
      "k =  24  accuracy =  0.43843843843843844\n",
      "k =  25  accuracy =  0.4444444444444444\n",
      "k =  26  accuracy =  0.44144144144144143\n",
      "k =  27  accuracy =  0.44594594594594594\n",
      "k =  28  accuracy =  0.4444444444444444\n",
      "k =  29  accuracy =  0.43243243243243246\n",
      "k =  30  accuracy =  0.4369369369369369\n",
      "k =  31  accuracy =  0.43243243243243246\n",
      "k =  32  accuracy =  0.43543543543543545\n",
      "k =  33  accuracy =  0.43543543543543545\n",
      "k =  34  accuracy =  0.43243243243243246\n",
      "k =  35  accuracy =  0.4294294294294294\n",
      "k =  36  accuracy =  0.43993993993993996\n",
      "k =  37  accuracy =  0.44894894894894893\n",
      "k =  38  accuracy =  0.44594594594594594\n",
      "k =  39  accuracy =  0.44594594594594594\n"
     ]
    },
    {
     "data": {
      "image/png": "[encoded data removed]",
      "text/plain": [
       "<Figure size 432x288 with 1 Axes>"
      ]
     },
     "metadata": {
      "needs_background": "light"
     },
     "output_type": "display_data"
    }
   ],
   "source": [
    "for k,v in K_accuracy.items():\n",
    "    print(\"k = \",k,\" accuracy = \",v)\n",
    "\n",
    "plt.plot(range(1,40),K_accuracy.values())\n",
    "plt.xlabel('K value')\n",
    "plt.ylabel('accuracy')\n",
    "plt.title('plot of KNN accuracy for different K value')\n",
    "plt.show()"
   ]
  },
  {
   "cell_type": "code",
   "execution_count": 7,
   "metadata": {},
   "outputs": [
    {
     "name": "stdout",
     "output_type": "stream",
     "text": [
      "k =  1  accuracy =  0.512012012012012\n",
      "k =  4  accuracy =  0.45345345345345345\n",
      "k =  12  accuracy =  0.45045045045045046\n",
      "k =  6  accuracy =  0.44894894894894893\n",
      "k =  10  accuracy =  0.44894894894894893\n",
      "k =  37  accuracy =  0.44894894894894893\n",
      "k =  3  accuracy =  0.44744744744744747\n",
      "k =  27  accuracy =  0.44594594594594594\n",
      "k =  38  accuracy =  0.44594594594594594\n",
      "k =  39  accuracy =  0.44594594594594594\n",
      "k =  17  accuracy =  0.4444444444444444\n",
      "k =  21  accuracy =  0.4444444444444444\n",
      "k =  25  accuracy =  0.4444444444444444\n",
      "k =  28  accuracy =  0.4444444444444444\n",
      "k =  20  accuracy =  0.44294294294294295\n",
      "k =  8  accuracy =  0.44144144144144143\n",
      "k =  11  accuracy =  0.44144144144144143\n",
      "k =  15  accuracy =  0.44144144144144143\n",
      "k =  22  accuracy =  0.44144144144144143\n",
      "k =  23  accuracy =  0.44144144144144143\n",
      "k =  26  accuracy =  0.44144144144144143\n",
      "k =  36  accuracy =  0.43993993993993996\n",
      "k =  2  accuracy =  0.43843843843843844\n",
      "k =  5  accuracy =  0.43843843843843844\n",
      "k =  19  accuracy =  0.43843843843843844\n",
      "k =  24  accuracy =  0.43843843843843844\n",
      "k =  7  accuracy =  0.4369369369369369\n",
      "k =  13  accuracy =  0.4369369369369369\n",
      "k =  30  accuracy =  0.4369369369369369\n",
      "k =  18  accuracy =  0.43543543543543545\n",
      "k =  32  accuracy =  0.43543543543543545\n",
      "k =  33  accuracy =  0.43543543543543545\n",
      "k =  16  accuracy =  0.43243243243243246\n",
      "k =  29  accuracy =  0.43243243243243246\n",
      "k =  31  accuracy =  0.43243243243243246\n",
      "k =  34  accuracy =  0.43243243243243246\n",
      "k =  9  accuracy =  0.43093093093093093\n",
      "k =  35  accuracy =  0.4294294294294294\n",
      "k =  14  accuracy =  0.42492492492492495\n"
     ]
    }
   ],
   "source": [
    "sorted_K_accuracy = sorted(K_accuracy.items(), key=lambda kv: kv[1],reverse=True)\n",
    "for k,v in sorted_K_accuracy:\n",
    "    print(\"k = \",k,\" accuracy = \",v)\n"
   ]
  },
  {
   "cell_type": "code",
   "execution_count": 13,
   "metadata": {},
   "outputs": [
    {
     "name": "stdout",
     "output_type": "stream",
     "text": [
      "knn model accuracy:  0.4965986394557823 time used:  0.005276900000012574\n"
     ]
    },
    {
     "name": "stderr",
     "output_type": "stream",
     "text": [
      "C:\\Users\\cluah\\Anaconda3\\lib\\site-packages\\ipykernel_launcher.py:1: DeprecationWarning: time.clock has been deprecated in Python 3.3 and will be removed from Python 3.8: use time.perf_counter or time.process_time instead\n",
      "  \"\"\"Entry point for launching an IPython kernel.\n",
      "C:\\Users\\cluah\\Anaconda3\\lib\\site-packages\\ipykernel_launcher.py:4: DeprecationWarning: time.clock has been deprecated in Python 3.3 and will be removed from Python 3.8: use time.perf_counter or time.process_time instead\n",
      "  after removing the cwd from sys.path.\n"
     ]
    }
   ],
   "source": [
    "start = time.clock()\n",
    "model = KNeighborsClassifier(n_neighbors=sorted_K_accuracy[0][0])\n",
    "model.fit(train_X,train_y)\n",
    "elapsed = (time.clock() - start)\n",
    "print(\"knn model accuracy: \",accuracy_score(model.predict(test_X),test_y),\"time used: \",elapsed)"
   ]
  },
  {
   "cell_type": "code",
   "execution_count": null,
   "metadata": {},
   "outputs": [],
   "source": []
  }
 ],
 "metadata": {
  "kernelspec": {
   "display_name": "Python 3",
   "language": "python",
   "name": "python3"
  },
  "language_info": {
   "codemirror_mode": {
    "name": "ipython",
    "version": 3
   },
   "file_extension": ".py",
   "mimetype": "text/x-python",
   "name": "python",
   "nbconvert_exporter": "python",
   "pygments_lexer": "ipython3",
   "version": "3.7.1"
  }
 },
 "nbformat": 4,
 "nbformat_minor": 2
}
