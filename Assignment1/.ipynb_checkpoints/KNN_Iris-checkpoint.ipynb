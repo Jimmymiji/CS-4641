{
 "cells": [
  {
   "cell_type": "code",
   "execution_count": 1,
   "metadata": {
    "collapsed": true
   },
   "outputs": [],
   "source": [
    "import numpy as np\n",
    "import csv\n",
    "import KNN\n",
    "from sklearn.datasets import load_iris\n",
    "from sklearn.model_selection import train_test_split\n"
   ]
  },
  {
   "cell_type": "code",
   "execution_count": 2,
   "metadata": {},
   "outputs": [],
   "source": [
    "#load data\n",
    "iris = load_iris()\n",
    "data = iris.data\n",
    "label = iris.target\n",
    "#print(data)"
   ]
  },
  {
   "cell_type": "code",
   "execution_count": 3,
   "metadata": {},
   "outputs": [],
   "source": [
    "# split data with train 60% , validation 20% , test 20%\n",
    "\n",
    "X_train, X_test, y_train, y_test = train_test_split(data, label, test_size=0.2, random_state=1)\n",
    "\n",
    "X_train, X_val, y_train, y_val = train_test_split(X_train, y_train, test_size=0.25, random_state=1)"
   ]
  },
  {
   "cell_type": "code",
   "execution_count": 10,
   "metadata": {},
   "outputs": [
    {
     "name": "stdout",
     "output_type": "stream",
     "text": [
      "[0 2 0 1 2 2 2 2 2 1 0 1 0 2 1 1 2 0 1 1 2 2 2 0 0 1 2 0 2 1 2 0 1 0 0 2 0\n",
      " 2 0 1 0 1 0 0 2 2 0 2 1 0 1 1 1 0 2 2 0 1 0 2 2 2 1 0 2 1 1 1 2 0 1 0 1 0\n",
      " 0 2 1 1 1 2 0 2 2 0 0 2 0 2 1 2]\n"
     ]
    }
   ],
   "source": [
    "knn = KNN.KNN()\n",
    "# train knn\n",
    "knn.train(X_train,y_train)"
   ]
  },
  {
   "cell_type": "code",
   "execution_count": 9,
   "metadata": {},
   "outputs": [
    {
     "name": "stdout",
     "output_type": "stream",
     "text": [
      "1\n",
      "[ 0.  0.  0.  0.  0.  0.  0.  0.  0.  0.  0.  0.  0.  0.  0.  0.  0.  0.\n",
      "  0.  0.  0.  0.  0.  0.  0.  0.  0.  0.  0.  0.]\n",
      "when k =  1  accuracy =  0.3\n",
      "3\n",
      "[ 0.  0.  0.  0.  0.  0.  0.  0.  0.  0.  0.  0.  0.  0.  0.  0.  0.  0.\n",
      "  0.  0.  0.  0.  0.  0.  0.  0.  0.  0.  0.  0.]\n",
      "when k =  3  accuracy =  0.3\n",
      "5\n",
      "[ 0.  0.  0.  0.  0.  0.  0.  0.  0.  0.  0.  0.  0.  0.  0.  0.  0.  0.\n",
      "  0.  0.  0.  0.  0.  0.  0.  0.  0.  0.  0.  0.]\n",
      "when k =  5  accuracy =  0.3\n",
      "7\n",
      "[ 0.  0.  0.  0.  0.  0.  0.  0.  0.  0.  0.  0.  0.  0.  0.  0.  0.  0.\n",
      "  0.  0.  0.  0.  0.  0.  0.  0.  0.  0.  0.  0.]\n",
      "when k =  7  accuracy =  0.3\n"
     ]
    }
   ],
   "source": [
    "# validation to find best k\n",
    "k_list = [1,3,5,7]\n",
    "accu_list = []\n",
    "for k_value in k_list:\n",
    "    y_pred = knn.predict(X_val,k=k_value)\n",
    "    print (y_pred)\n",
    "    accuracy = np.sum(y_pred == y_val) / y_val.shape[0]\n",
    "    print(\"when k = \",k_value,\" accuracy = \",accuracy)\n",
    "    accu_list.append(accuracy)"
   ]
  },
  {
   "cell_type": "code",
   "execution_count": 6,
   "metadata": {},
   "outputs": [
    {
     "name": "stdout",
     "output_type": "stream",
     "text": [
      "1\n",
      "test accuracy  0.366666666667\n"
     ]
    }
   ],
   "source": [
    "#test the best k\n",
    "idx = np.argmax(accu_list)\n",
    "y_pred = knn.predict(X_test,k=k_list[idx])\n",
    "accuracy = np.sum(y_pred == y_test) / y_test.shape[0]\n",
    "print(\"test accuracy \",accuracy)"
   ]
  },
  {
   "cell_type": "code",
   "execution_count": null,
   "metadata": {
    "collapsed": true
   },
   "outputs": [],
   "source": []
  }
 ],
 "metadata": {
  "kernelspec": {
   "display_name": "Python 3",
   "language": "python",
   "name": "python3"
  },
  "language_info": {
   "codemirror_mode": {
    "name": "ipython",
    "version": 3
   },
   "file_extension": ".py",
   "mimetype": "text/x-python",
   "name": "python",
   "nbconvert_exporter": "python",
   "pygments_lexer": "ipython3",
   "version": "3.6.3"
  }
 },
 "nbformat": 4,
 "nbformat_minor": 2
}
