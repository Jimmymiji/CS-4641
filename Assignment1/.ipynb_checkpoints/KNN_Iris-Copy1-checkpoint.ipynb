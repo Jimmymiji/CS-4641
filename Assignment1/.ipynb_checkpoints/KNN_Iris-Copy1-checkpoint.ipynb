{
 "cells": [
  {
   "cell_type": "code",
   "execution_count": 27,
   "metadata": {},
   "outputs": [],
   "source": [
    "import numpy as np\n",
    "import csv\n",
    "import KNN\n",
    "import matplotlib.pyplot as plt\n",
    "# from sklearn.datasets.base import get_data_home \n",
    "# print (get_data_home())"
   ]
  },
  {
   "cell_type": "code",
   "execution_count": 33,
   "metadata": {},
   "outputs": [],
   "source": [
    "train = np.genfromtxt('data/train_data.txt').astype(int)\n",
    "test = np.genfromtxt('data/test_data.txt').astype(int)\n",
    "val = np.genfromtxt('data/val_data.txt').astype(int)\n",
    "\n",
    "# Parse data for separating training labels and dataset\n",
    "n_feat = train[0].size\n",
    "X_train = train[:,:-1]\n",
    "y_train = train[:,n_feat-1]\n",
    "X_test = test[:,:-1]\n",
    "y_test = test[:,n_feat-1]\n",
    "X_val = val[:,:-1]\n",
    "y_val = val[:,n_feat-1]\n"
   ]
  },
  {
   "cell_type": "code",
   "execution_count": null,
   "metadata": {
    "collapsed": true
   },
   "outputs": [],
   "source": [
    "data_path = \"data/\"\n",
    "train_data = np.loadtxt(data_path + \"mnist_train.csv\", \n",
    "                        delimiter=\",\")\n",
    "test_data = np.loadtxt(data_path + \"mnist_test.csv\", \n",
    "                       delimiter=\",\") \n",
    "\n",
    "train_data = train_data[:500]\n",
    "test_data = test_data[:500]\n",
    "\n",
    "num_val = int(0.2*train_data.shape[0])\n",
    "\n",
    "\n",
    "X_train = np.array(train_data[:-num_val, 1:])\n",
    "X_test = np.array(test_data[:, 1:])\n",
    "X_val = np.array(train_data[-num_val:, 1:])\n",
    "y_train = np.array(train_data[:-num_val, :1])\n",
    "y_test = np.array(test_data[:, :1])\n",
    "y_val = np.array(test_data[-num_val:, :1])"
   ]
  },
  {
   "cell_type": "code",
   "execution_count": 34,
   "metadata": {
    "collapsed": true
   },
   "outputs": [],
   "source": [
    "knn = KNN.KNN()\n",
    "# train knn\n",
    "knn.train(X_train,y_train)"
   ]
  },
  {
   "cell_type": "code",
   "execution_count": 35,
   "metadata": {
    "scrolled": true
   },
   "outputs": [
    {
     "name": "stdout",
     "output_type": "stream",
     "text": [
      "when k =  1  accuracy =  0.873333333333\n",
      "when k =  3  accuracy =  0.856666666667\n",
      "when k =  5  accuracy =  0.87\n",
      "when k =  7  accuracy =  0.85\n",
      "when k =  9  accuracy =  0.84\n",
      "when k =  11  accuracy =  0.826666666667\n",
      "when k =  13  accuracy =  0.83\n"
     ]
    }
   ],
   "source": [
    "# validation to find best k\n",
    "k_list = [1,3,5,7,9,11,13]\n",
    "accu_list = []\n",
    "for k_value in k_list:\n",
    "    y_pred = knn.predict(X_val,k=k_value)\n",
    "    accuracy = np.sum(y_pred == y_val) / y_val.shape[0]\n",
    "    print(\"when k = \",k_value,\" accuracy = \",accuracy)\n",
    "    accu_list.append(accuracy)"
   ]
  },
  {
   "cell_type": "code",
   "execution_count": 38,
   "metadata": {},
   "outputs": [
    {
     "name": "stdout",
     "output_type": "stream",
     "text": [
      "test accuracy  0.903333333333  k =  3\n"
     ]
    }
   ],
   "source": [
    "#test the best k\n",
    "idx = np.argmax(accu_list)\n",
    "y_pred = knn.predict(X_test,k=k_list[idx])\n",
    "accuracy = np.sum(y_pred == y_test) / y_test.shape[0]\n",
    "print(\"test accuracy \",accuracy,\" k = \",k_list[idx])"
   ]
  },
  {
   "cell_type": "code",
   "execution_count": 37,
   "metadata": {},
   "outputs": [
    {
     "data": {
      "image/png": "[encoded data removed]",
      "text/plain": [
       "<matplotlib.figure.Figure at 0x7f03f4ffd6a0>"
      ]
     },
     "metadata": {},
     "output_type": "display_data"
    }
   ],
   "source": [
    "plt.plot(k_list, accu_list)\n",
    "plt.show()"
   ]
  },
  {
   "cell_type": "code",
   "execution_count": null,
   "metadata": {
    "collapsed": true
   },
   "outputs": [],
   "source": []
  }
 ],
 "metadata": {
  "kernelspec": {
   "display_name": "Python 3",
   "language": "python",
   "name": "python3"
  },
  "language_info": {
   "codemirror_mode": {
    "name": "ipython",
    "version": 3
   },
   "file_extension": ".py",
   "mimetype": "text/x-python",
   "name": "python",
   "nbconvert_exporter": "python",
   "pygments_lexer": "ipython3",
   "version": "3.6.3"
  }
 },
 "nbformat": 4,
 "nbformat_minor": 2
}
