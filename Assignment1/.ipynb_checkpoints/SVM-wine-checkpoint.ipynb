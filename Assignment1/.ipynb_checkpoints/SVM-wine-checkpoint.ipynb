{
 "cells": [
  {
   "cell_type": "code",
   "execution_count": 1,
   "metadata": {},
   "outputs": [],
   "source": [
    "import time\n",
    "import pandas as pd\n",
    "import numpy as np\n",
    "from sklearn import preprocessing\n",
    "from sklearn import svm\n",
    "from sklearn.model_selection import train_test_split\n",
    "import matplotlib.pyplot as plt\n",
    "from sklearn.metrics import accuracy_score"
   ]
  },
  {
   "cell_type": "code",
   "execution_count": null,
   "metadata": {},
   "outputs": [
    {
     "name": "stdout",
     "output_type": "stream",
     "text": [
      "(3918, 13)\n"
     ]
    }
   ],
   "source": [
    "data = pd.read_csv(\"data/winequality.csv\")\n",
    "print(data.shape)\n",
    "X = data.iloc[:,:11]\n",
    "y = data.iloc[:,11]\n",
    "train_X,test_X,train_y,test_y = train_test_split(X, y, random_state=0, test_size=0.15)\n",
    "train_X,val_X,train_y,val_y = train_test_split(train_X,train_y,test_size=0.2,random_state=0)"
   ]
  },
  {
   "cell_type": "code",
   "execution_count": null,
   "metadata": {},
   "outputs": [],
   "source": [
    "C_list = [ 1,5, 10, 30,50 ,100]\n",
    "K_list = ['linear','rbf']\n",
    "accuracy = dict()\n",
    "accuracy['linear'] = dict()\n",
    "accuracy['poly'] = dict()\n",
    "accuracy['rbf'] = dict()\n",
    "\n",
    "t_accuracy = dict()\n",
    "t_accuracy['linear'] = dict()\n",
    "t_accuracy['poly'] = dict()\n",
    "t_accuracy['rbf'] = dict()\n",
    "\n",
    "best_info = ()\n",
    "best_accuracy = 0\n",
    "for c in C_list:\n",
    "    for k in K_list:\n",
    "        linear_svm = svm.SVC(kernel=k,C=c)\n",
    "        linear_svm.fit(train_X, train_y)\n",
    "        predictions = linear_svm.predict(val_X)\n",
    "        train_prediction = linear_svm.predict(train_X)\n",
    "    \n",
    "        accu = accuracy_score(predictions,val_y)\n",
    "        t_accu = accuracy_score(train_prediction,train_y)\n",
    "        \n",
    "        accuracy[k][c] = accu\n",
    "        t_accuracy[k][c] = t_accu\n",
    "        \n",
    "        if accu > best_accuracy:\n",
    "            best_accuracy = accu\n",
    "            best_info = (k,c)\n",
    "        print(\"C: \",c,\" Kernel: \",k,\" Accuracy: \",accu)\n",
    "print(\"best info c:\", best_info[1],\" k: \",best_info[0],\" accuracy:\", best_accuracy)"
   ]
  },
  {
   "cell_type": "code",
   "execution_count": null,
   "metadata": {},
   "outputs": [],
   "source": [
    "l = list()\n",
    "p = list()\n",
    "r = list()\n",
    "tl = list()\n",
    "tp = list()\n",
    "tr = list()\n",
    "for c in C_list:\n",
    "    l.append(accuracy['linear'][c])\n",
    "    p.append(accuracy['poly'][c])\n",
    "    r.append(accuracy['rbf'][c])\n",
    "    tl.append(t_accuracy['linear'][c])\n",
    "    tp.append(t_accuracy['poly'][c])\n",
    "    tr.append(t_accuracy['rbf'][c])\n",
    "    \n",
    "plt.grid()    \n",
    "plt.plot([1,5,10,30,50 ,100], l, 'r-', label = \"(linear,val)\")\n",
    "plt.plot([1,5,10,30,50 ,100], p, 'b-', label = \"(poly,val)\")\n",
    "plt.plot([1,5,10,30,50 ,100], r, 'g-', label = \"(rbf,val)\")\n",
    "plt.plot([1,5,10,30,50 ,100], tl, 'r:', label = \"(linear,train)\")\n",
    "plt.plot([1,5,10,30,50 ,100], tp, 'b:', label = \"(poly,train)\")\n",
    "plt.plot([1,5,10,30,50 ,100], tr, 'g:', label = \"(rbf,train)\")\n",
    "\n",
    "plt.ylabel('Accuracy')\n",
    "plt.xlabel('C parameter')\n",
    "plt.title('Accuracy vs C for different kernels')\n",
    "plt.legend()\n",
    "plt.show()"
   ]
  },
  {
   "cell_type": "code",
   "execution_count": null,
   "metadata": {},
   "outputs": [],
   "source": [
    "start = time.clock()\n",
    "linear_svm = svm.SVC(kernel=best_info[0],C=best_info[1])\n",
    "linear_svm.fit(train_X, train_y)\n",
    "elapsed = (time.clock() - start)\n",
    "predictions = linear_svm.predict(test_X)\n",
    "accu = accuracy_score(predictions,test_y)\n",
    "print(\"svm accuracy: \",accu,\" time used: \",elapsed)"
   ]
  },
  {
   "cell_type": "code",
   "execution_count": null,
   "metadata": {},
   "outputs": [],
   "source": []
  },
  {
   "cell_type": "code",
   "execution_count": null,
   "metadata": {},
   "outputs": [],
   "source": []
  }
 ],
 "metadata": {
  "kernelspec": {
   "display_name": "Python 3",
   "language": "python",
   "name": "python3"
  },
  "language_info": {
   "codemirror_mode": {
    "name": "ipython",
    "version": 3
   },
   "file_extension": ".py",
   "mimetype": "text/x-python",
   "name": "python",
   "nbconvert_exporter": "python",
   "pygments_lexer": "ipython3",
   "version": "3.7.1"
  }
 },
 "nbformat": 4,
 "nbformat_minor": 2
}
