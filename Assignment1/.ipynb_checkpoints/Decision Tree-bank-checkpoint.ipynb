{
 "cells": [
  {
   "cell_type": "code",
   "execution_count": 9,
   "metadata": {
    "collapsed": true
   },
   "outputs": [],
   "source": [
    "import os\n",
    "import pandas as pd\n",
    "import numpy as np\n",
    "from sklearn import tree\n",
    "from sklearn import preprocessing\n",
    "from sklearn.model_selection import train_test_split\n",
    "from sklearn.tree import DecisionTreeClassifier\n",
    "import graphviz \n",
    "import matplotlib.pyplot as plt\n",
    "from IPython.display import Image\n",
    "from sklearn.metrics import accuracy_score\n",
    "from sklearn.feature_extraction import DictVectorizer as DV\n",
    "import time\n",
    "from sklearn.model_selection import cross_val_score"
   ]
  },
  {
   "cell_type": "code",
   "execution_count": 10,
   "metadata": {},
   "outputs": [],
   "source": [
    "bank_data = pd.read_csv(\"data/bank-full.csv\",delimiter=';')\n",
    "features = list(bank_data.columns.values)\n",
    "numeric_col = ['age','balance','day','duration','campaign','pdays','previous']\n",
    "x_num_train = bank_data[numeric_col].as_matrix()\n",
    "\n",
    "#categorical columns\n",
    "bank_train = bank_data.drop(numeric_col+['y'],axis = 1)\n",
    "x_bank_train = bank_train.T.to_dict().values()\n",
    "\n",
    "#vectorize\n",
    "vectorizer = DV( sparse = False )\n",
    "vec_x_bank_train = vectorizer.fit_transform( x_bank_train )\n",
    "feature_train = np.hstack(( x_num_train, vec_x_bank_train ))\n",
    "\n",
    "#y\n",
    "label_train = bank_data.as_matrix(columns=['y'])\n",
    "\n",
    "# sample part of data to reduce computing time\n",
    "train_X,test_X,train_y,test_y = train_test_split(feature_train,label_train,test_size=0.5,random_state=0)\n",
    "\n",
    "train_X,test_X,train_y,test_y = train_test_split(train_X,train_y,test_size=0.2,random_state=0)\n",
    "\n",
    "\n"
   ]
  },
  {
   "cell_type": "code",
   "execution_count": 18,
   "metadata": {
    "collapsed": true,
    "scrolled": true
   },
   "outputs": [],
   "source": [
    "accuracy = dict()\n",
    "best_tree = None\n",
    "best_info = (0,0,None)\n",
    "for d in range(1,40):\n",
    "    clf_gini = DecisionTreeClassifier(criterion = \"gini\", random_state = 0,\n",
    "                               max_depth=d)\n",
    "    clf_gini.fit(train_X,train_y)\n",
    "    \n",
    "    clf_entropy = DecisionTreeClassifier(criterion = \"entropy\", random_state =0,\n",
    "                               max_depth=d)\n",
    "    clf_entropy.fit(train_X,train_y)\n",
    "    \n",
    "    train_gini_predict = clf_gini.predict(train_X)\n",
    "    train_entropy_predict = clf_entropy.predict(train_X)\n",
    "    \n",
    "    g_accuracy = cross_val_score(clf_gini, train_X,train_y, cv=3).mean()\n",
    "    e_accuracy = cross_val_score(clf_entropy, train_X,train_y, cv=3).mean()\n",
    "    train_g_accuracy = accuracy_score(train_gini_predict , train_y)\n",
    "    train_e_accuracy = accuracy_score(train_entropy_predict,train_y) \n",
    "    accuracy[d] = (g_accuracy,e_accuracy,train_g_accuracy,train_e_accuracy)\n",
    "    \n",
    "    best_temp = (0,None)\n",
    "    if g_accuracy > e_accuracy:\n",
    "        best_temp = (g_accuracy,'gini')\n",
    "    else:\n",
    "        best_temp = (e_accuracy,'entropy')\n",
    "    if best_temp[0] > best_info[0]:\n",
    "        best_info = (best_temp[0],d,best_temp[1])"
   ]
  },
  {
   "cell_type": "code",
   "execution_count": 19,
   "metadata": {},
   "outputs": [
    {
     "name": "stdout",
     "output_type": "stream",
     "text": [
      "depth:  1 , entropy accuracy:  0.88304578633 , gini accuracy:  0.882050431321\n",
      "depth:  2 , entropy accuracy:  0.891727493917 , gini accuracy:  0.898307896483\n",
      "depth:  3 , entropy accuracy:  0.899911523999 , gini accuracy:  0.901238664012\n",
      "depth:  4 , entropy accuracy:  0.900077416501 , gini accuracy:  0.899856226499\n",
      "depth:  5 , entropy accuracy:  0.899082061491 , gini accuracy:  0.900298606503\n",
      "depth:  6 , entropy accuracy:  0.899911523999 , gini accuracy:  0.901183366512\n",
      "depth:  7 , entropy accuracy:  0.898805573988 , gini accuracy:  0.899635036496\n",
      "depth:  8 , entropy accuracy:  0.897589028976 , gini accuracy:  0.89902676399\n",
      "depth:  9 , entropy accuracy:  0.895819508958 , gini accuracy:  0.897478433975\n",
      "depth:  10 , entropy accuracy:  0.894824153948 , gini accuracy:  0.89598540146\n",
      "depth:  11 , entropy accuracy:  0.892667551427 , gini accuracy:  0.892446361424\n",
      "depth:  12 , entropy accuracy:  0.893552311436 , gini accuracy:  0.891727493917\n",
      "depth:  13 , entropy accuracy:  0.889902676399 , gini accuracy:  0.8900132714\n",
      "depth:  14 , entropy accuracy:  0.890179163902 , gini accuracy:  0.890566246406\n",
      "depth:  15 , entropy accuracy:  0.886308338863 , gini accuracy:  0.888464941385\n",
      "depth:  16 , entropy accuracy:  0.885534173855 , gini accuracy:  0.88603185136\n",
      "depth:  17 , entropy accuracy:  0.884207033842 , gini accuracy:  0.884704711347\n",
      "depth:  18 , entropy accuracy:  0.88498119885 , gini accuracy:  0.883488166335\n",
      "depth:  19 , entropy accuracy:  0.881220968812 , gini accuracy:  0.88304578633\n",
      "depth:  20 , entropy accuracy:  0.879672638797 , gini accuracy:  0.880502101305\n",
      "depth:  21 , entropy accuracy:  0.8800044238 , gini accuracy:  0.877460738775\n",
      "depth:  22 , entropy accuracy:  0.880889183809 , gini accuracy:  0.877350143774\n",
      "depth:  23 , entropy accuracy:  0.877847821278 , gini accuracy:  0.878456093785\n",
      "depth:  24 , entropy accuracy:  0.879396151294 , gini accuracy:  0.875801813758\n",
      "depth:  25 , entropy accuracy:  0.877847821278 , gini accuracy:  0.875801813758\n",
      "depth:  26 , entropy accuracy:  0.878732581287 , gini accuracy:  0.874529971245\n",
      "depth:  27 , entropy accuracy:  0.877350143774 , gini accuracy:  0.874585268746\n",
      "depth:  28 , entropy accuracy:  0.875746516257 , gini accuracy:  0.873534616235\n",
      "depth:  29 , entropy accuracy:  0.876465383765 , gini accuracy:  0.87403229374\n",
      "depth:  30 , entropy accuracy:  0.876354788764 , gini accuracy:  0.873424021234\n",
      "depth:  31 , entropy accuracy:  0.876686573767 , gini accuracy:  0.872428666224\n",
      "depth:  32 , entropy accuracy:  0.877405441274 , gini accuracy:  0.872871046229\n",
      "depth:  33 , entropy accuracy:  0.875359433754 , gini accuracy:  0.872871046229\n",
      "depth:  34 , entropy accuracy:  0.875138243751 , gini accuracy:  0.872871046229\n",
      "depth:  35 , entropy accuracy:  0.876465383765 , gini accuracy:  0.872871046229\n",
      "depth:  36 , entropy accuracy:  0.876631276266 , gini accuracy:  0.872871046229\n",
      "depth:  37 , entropy accuracy:  0.876631276266 , gini accuracy:  0.872871046229\n",
      "depth:  38 , entropy accuracy:  0.876631276266 , gini accuracy:  0.872871046229\n",
      "depth:  39 , entropy accuracy:  0.876631276266 , gini accuracy:  0.872871046229\n",
      "best tree: depth:  3 , split function:  gini , accuracy:  0.901238664012\n"
     ]
    }
   ],
   "source": [
    "list_g = list()\n",
    "list_e = list()\n",
    "train_list_g = list()\n",
    "train_list_e = list()\n",
    "for k,v in accuracy.items():\n",
    "    print(\"depth: \",k,\", entropy accuracy: \",v[1],\", gini accuracy: \",v[0])\n",
    "    list_g.append(v[0])\n",
    "    list_e.append(v[1])\n",
    "    train_list_g.append(v[2])\n",
    "    train_list_e.append(v[3])\n",
    "print (\"best tree: depth: \",best_info[1],\", split function: \",best_info[2],\", accuracy: \",best_info[0])"
   ]
  },
  {
   "cell_type": "code",
   "execution_count": 23,
   "metadata": {
    "scrolled": true
   },
   "outputs": [
    {
     "data": {
      "image/png": "[encoded data removed]",
      "text/plain": [
       "<matplotlib.figure.Figure at 0x7f53f8c37a58>"
      ]
     },
     "metadata": {},
     "output_type": "display_data"
    }
   ],
   "source": [
    "plt.plot(range(len(list_e)),list_e,'b-',label=\"(entropy, validation)\")\n",
    "plt.plot(range(len(list_g)),list_g,'r-',label=\"(gini, validation)\")\n",
    "plt.plot(range(len(list_e)),train_list_e,'b:',label=\"(entropy, train)\")\n",
    "plt.plot(range(len(list_g)),train_list_g,'r:',label=\"(gini, train)\")\n",
    "plt.xlabel('Depth')\n",
    "plt.ylabel('Accuracy')\n",
    "plt.title('Bank:plot of accuracy for different trees')\n",
    "plt.legend()\n",
    "plt.savefig(\"DT_bank_1.png\")\n",
    "plt.show()\n"
   ]
  },
  {
   "cell_type": "code",
   "execution_count": 14,
   "metadata": {},
   "outputs": [
    {
     "name": "stdout",
     "output_type": "stream",
     "text": [
      "bset tree test accurcy:  0.905330679053\n"
     ]
    }
   ],
   "source": [
    "clf = DecisionTreeClassifier(criterion = best_info[2], random_state = 0,\n",
    "                               max_depth=best_info[1])\n",
    "clf.fit(train_X,train_y)\n",
    "predict = clf.predict(test_X)\n",
    "accuracy = accuracy_score(predict,test_y)\n",
    "print(\"bset tree test accurcy: \",accuracy)"
   ]
  },
  {
   "cell_type": "code",
   "execution_count": 15,
   "metadata": {
    "scrolled": true
   },
   "outputs": [
    {
     "data": {
      "image/png": "[encoded data removed]",
      "text/plain": [
       "<matplotlib.figure.Figure at 0x7f53fce12c18>"
      ]
     },
     "metadata": {},
     "output_type": "display_data"
    }
   ],
   "source": [
    "deep_grow_accuracy = list()\n",
    "middle_grow_accuracy = list()\n",
    "small_grow_accuracy = list()\n",
    "train_1 = list()\n",
    "train_2 = list()\n",
    "train_3 = list()\n",
    "X,_,y,_ = train_test_split(feature_train,label_train,test_size=0.5,random_state=0)\n",
    "for p in range(10,90):\n",
    "    train_X,test_X,train_y,test_y = train_test_split(X, y, random_state=0, test_size= 1-p/100)\n",
    "    \n",
    "    deep_clf_gini = DecisionTreeClassifier(criterion = \"gini\", random_state = 0,\n",
    "                               max_depth=25)\n",
    "    deep_clf_gini.fit(train_X,train_y)\n",
    "    deep_gini_predict = deep_clf_gini.predict(test_X)\n",
    "    deep_g_accuracy = accuracy_score(deep_gini_predict,test_y) \n",
    "    deep_grow_accuracy.append(deep_g_accuracy)\n",
    "    tdeep_gini_predict = deep_clf_gini.predict(train_X)\n",
    "    tdeep_g_accuracy = accuracy_score(tdeep_gini_predict,train_y) \n",
    "    train_1.append(tdeep_g_accuracy)\n",
    "    \n",
    "   \n",
    "    middle_clf_gini = DecisionTreeClassifier(criterion = \"gini\", random_state = 0,\n",
    "                               max_depth=15)\n",
    "    middle_clf_gini.fit(train_X,train_y)\n",
    "    middle_gini_predict = middle_clf_gini.predict(test_X)\n",
    "    middle_g_accuracy = accuracy_score(middle_gini_predict ,test_y)\n",
    "    middle_grow_accuracy.append(middle_g_accuracy)\n",
    "    tmiddle_gini_predict = middle_clf_gini.predict(train_X)\n",
    "    tmiddle_g_accuracy = accuracy_score(tmiddle_gini_predict, train_y) \n",
    "    train_2.append(tmiddle_g_accuracy)\n",
    "\n",
    "    small_clf_gini = DecisionTreeClassifier(criterion = \"gini\", random_state = 0,\n",
    "                               max_depth=5)\n",
    "    small_clf_gini.fit(train_X,train_y)\n",
    "    small_gini_predict = small_clf_gini.predict(test_X)\n",
    "    small_g_accuracy =accuracy_score(small_gini_predict ,test_y)\n",
    "    small_grow_accuracy.append(small_g_accuracy)\n",
    "    tsmall_gini_predict = small_clf_gini.predict(train_X)\n",
    "    tsmall_g_accuracy = accuracy_score(tsmall_gini_predict,train_y)\n",
    "    train_3.append(small_g_accuracy)\n",
    "\n",
    "\n",
    "plt.plot(range(10,90),deep_grow_accuracy,'r-',label=\"(25,test) \")\n",
    "plt.plot(range(10,90),middle_grow_accuracy,'b-',label=\"(15,test)\")\n",
    "plt.plot(range(10,90),small_grow_accuracy,'g-',label=\"(5,test)\")\n",
    "plt.xlabel('training size %')\n",
    "plt.ylabel('accuracy')\n",
    "plt.title('Bank: decision tree of different depth learning curve')\n",
    "plt.axis([10,90,0.5,1.1])\n",
    "plt.legend()\n",
    "plt.savefig(\"DT_bank_2.jpg\")\n",
    "plt.show()"
   ]
  },
  {
   "cell_type": "code",
   "execution_count": 16,
   "metadata": {},
   "outputs": [
    {
     "name": "stdout",
     "output_type": "stream",
     "text": [
      "decision tree model accuracy:  0.905551869056 time used :  0.08322200000009161\n"
     ]
    }
   ],
   "source": [
    "train_X,test_X,train_y,test_y = train_test_split(feature_train,label_train,test_size=0.5,random_state=0)\n",
    "train_X,test_X,train_y,test_y = train_test_split(train_X,train_y,test_size=0.2,random_state=0)\n",
    "start = time.clock()\n",
    "model = DecisionTreeClassifier(criterion = \"gini\", random_state = 0,max_depth=5)\n",
    "model.fit(train_X,train_y)\n",
    "predict = model.predict(test_X)\n",
    "elapsed = (time.clock() - start)\n",
    "print(\"decision tree model accuracy: \",accuracy_score(predict,test_y),\"time used : \",elapsed)"
   ]
  },
  {
   "cell_type": "code",
   "execution_count": null,
   "metadata": {
    "collapsed": true
   },
   "outputs": [],
   "source": []
  }
 ],
 "metadata": {
  "kernelspec": {
   "display_name": "Python 3",
   "language": "python",
   "name": "python3"
  },
  "language_info": {
   "codemirror_mode": {
    "name": "ipython",
    "version": 3
   },
   "file_extension": ".py",
   "mimetype": "text/x-python",
   "name": "python",
   "nbconvert_exporter": "python",
   "pygments_lexer": "ipython3",
   "version": "3.6.3"
  }
 },
 "nbformat": 4,
 "nbformat_minor": 2
}
