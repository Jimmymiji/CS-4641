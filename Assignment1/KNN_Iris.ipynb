{
 "cells": [
  {
   "cell_type": "code",
   "execution_count": 1,
   "metadata": {
    "collapsed": true
   },
   "outputs": [],
   "source": [
    "import numpy as np\n",
    "import csv\n",
    "import KNN\n",
    "from sklearn.datasets import load_iris\n",
    "from sklearn.model_selection import train_test_split\n"
   ]
  },
  {
   "cell_type": "code",
   "execution_count": 2,
   "metadata": {},
   "outputs": [],
   "source": [
    "#load data\n",
    "iris = load_iris()\n",
    "data = iris.data\n",
    "label = iris.target\n",
    "#print(data)"
   ]
  },
  {
   "cell_type": "code",
   "execution_count": 3,
   "metadata": {},
   "outputs": [],
   "source": [
    "# split data with train 60% , validation 20% , test 20%\n",
    "\n",
    "X_train, X_test, y_train, y_test = train_test_split(data, label, test_size=0.2, random_state=1)\n",
    "\n",
    "X_train, X_val, y_train, y_val = train_test_split(X_train, y_train, test_size=0.25, random_state=1)"
   ]
  },
  {
   "cell_type": "code",
   "execution_count": 4,
   "metadata": {},
   "outputs": [],
   "source": [
    "knn = KNN.KNN()\n",
    "# train knn\n",
    "knn.train(X_train,y_train)"
   ]
  },
  {
   "cell_type": "code",
   "execution_count": 5,
   "metadata": {
    "scrolled": true
   },
   "outputs": [
    {
     "name": "stdout",
     "output_type": "stream",
     "text": [
      "1\n",
      "[[ 2.63628527  1.56843871  2.60384331 ...,  1.49331845  2.01246118\n",
      "   1.67332005]\n",
      " [ 0.42426407  4.1677332   0.96436508 ...,  4.31045241  4.44971909\n",
      "   4.29068759]\n",
      " [ 0.65574385  3.49284984  0.42426407 ...,  3.72961124  3.66469644\n",
      "   3.60832371]\n",
      " ..., \n",
      " [ 3.10644491  1.38564065  3.03644529 ...,  1.11803399  1.62788206\n",
      "   1.44913767]\n",
      " [ 4.75920161  0.83666003  4.51442134 ...,  1.37477271  1.23693169\n",
      "   0.73484692]\n",
      " [ 2.48797106  1.60623784  2.38746728 ...,  1.6583124   1.91049732\n",
      "   1.70880075]]\n",
      "[ 0.  0.  0.  0.  0.  0.  0.  0.  0.  0.  0.  0.  0.  0.  0.  0.  0.  0.\n",
      "  0.  0.  0.  0.  0.  0.  0.  0.  0.  0.  0.  0.]\n",
      "when k =  1  accuracy =  0.3\n",
      "3\n",
      "[[ 2.63628527  1.56843871  2.60384331 ...,  1.49331845  2.01246118\n",
      "   1.67332005]\n",
      " [ 0.42426407  4.1677332   0.96436508 ...,  4.31045241  4.44971909\n",
      "   4.29068759]\n",
      " [ 0.65574385  3.49284984  0.42426407 ...,  3.72961124  3.66469644\n",
      "   3.60832371]\n",
      " ..., \n",
      " [ 3.10644491  1.38564065  3.03644529 ...,  1.11803399  1.62788206\n",
      "   1.44913767]\n",
      " [ 4.75920161  0.83666003  4.51442134 ...,  1.37477271  1.23693169\n",
      "   0.73484692]\n",
      " [ 2.48797106  1.60623784  2.38746728 ...,  1.6583124   1.91049732\n",
      "   1.70880075]]\n",
      "[ 0.  0.  0.  0.  0.  0.  0.  0.  0.  0.  0.  0.  0.  0.  0.  0.  0.  0.\n",
      "  0.  0.  0.  0.  0.  0.  0.  0.  0.  0.  0.  0.]\n",
      "when k =  3  accuracy =  0.3\n",
      "5\n",
      "[[ 2.63628527  1.56843871  2.60384331 ...,  1.49331845  2.01246118\n",
      "   1.67332005]\n",
      " [ 0.42426407  4.1677332   0.96436508 ...,  4.31045241  4.44971909\n",
      "   4.29068759]\n",
      " [ 0.65574385  3.49284984  0.42426407 ...,  3.72961124  3.66469644\n",
      "   3.60832371]\n",
      " ..., \n",
      " [ 3.10644491  1.38564065  3.03644529 ...,  1.11803399  1.62788206\n",
      "   1.44913767]\n",
      " [ 4.75920161  0.83666003  4.51442134 ...,  1.37477271  1.23693169\n",
      "   0.73484692]\n",
      " [ 2.48797106  1.60623784  2.38746728 ...,  1.6583124   1.91049732\n",
      "   1.70880075]]\n",
      "[ 0.  0.  0.  0.  0.  0.  0.  0.  0.  0.  0.  0.  0.  0.  0.  0.  0.  0.\n",
      "  0.  0.  0.  0.  0.  0.  0.  0.  0.  0.  0.  0.]\n",
      "when k =  5  accuracy =  0.3\n",
      "7\n",
      "[[ 2.63628527  1.56843871  2.60384331 ...,  1.49331845  2.01246118\n",
      "   1.67332005]\n",
      " [ 0.42426407  4.1677332   0.96436508 ...,  4.31045241  4.44971909\n",
      "   4.29068759]\n",
      " [ 0.65574385  3.49284984  0.42426407 ...,  3.72961124  3.66469644\n",
      "   3.60832371]\n",
      " ..., \n",
      " [ 3.10644491  1.38564065  3.03644529 ...,  1.11803399  1.62788206\n",
      "   1.44913767]\n",
      " [ 4.75920161  0.83666003  4.51442134 ...,  1.37477271  1.23693169\n",
      "   0.73484692]\n",
      " [ 2.48797106  1.60623784  2.38746728 ...,  1.6583124   1.91049732\n",
      "   1.70880075]]\n",
      "[ 0.  0.  0.  0.  0.  0.  0.  0.  0.  0.  0.  0.  0.  0.  0.  0.  0.  0.\n",
      "  0.  0.  0.  0.  0.  0.  0.  0.  0.  0.  0.  0.]\n",
      "when k =  7  accuracy =  0.3\n"
     ]
    }
   ],
   "source": [
    "# validation to find best k\n",
    "k_list = [1,3,5,7]\n",
    "accu_list = []\n",
    "for k_value in k_list:\n",
    "    y_pred = knn.predict(X_val,k=k_value)\n",
    "    print (y_pred)\n",
    "    accuracy = np.sum(y_pred == y_val) / y_val.shape[0]\n",
    "    print(\"when k = \",k_value,\" accuracy = \",accuracy)\n",
    "    accu_list.append(accuracy)"
   ]
  },
  {
   "cell_type": "code",
   "execution_count": 1,
   "metadata": {},
   "outputs": [
    {
     "ename": "NameError",
     "evalue": "name 'np' is not defined",
     "output_type": "error",
     "traceback": [
      "\u001b[0;31m---------------------------------------------------------------------------\u001b[0m",
      "\u001b[0;31mNameError\u001b[0m                                 Traceback (most recent call last)",
      "\u001b[0;32m<ipython-input-1-967b5c10472b>\u001b[0m in \u001b[0;36m<module>\u001b[0;34m()\u001b[0m\n\u001b[1;32m      1\u001b[0m \u001b[0;31m#test the best k\u001b[0m\u001b[0;34m\u001b[0m\u001b[0;34m\u001b[0m\u001b[0m\n\u001b[0;32m----> 2\u001b[0;31m \u001b[0midx\u001b[0m \u001b[0;34m=\u001b[0m \u001b[0mnp\u001b[0m\u001b[0;34m.\u001b[0m\u001b[0margmax\u001b[0m\u001b[0;34m(\u001b[0m\u001b[0maccu_list\u001b[0m\u001b[0;34m)\u001b[0m\u001b[0;34m\u001b[0m\u001b[0m\n\u001b[0m\u001b[1;32m      3\u001b[0m \u001b[0my_pred\u001b[0m \u001b[0;34m=\u001b[0m \u001b[0mknn\u001b[0m\u001b[0;34m.\u001b[0m\u001b[0mpredict\u001b[0m\u001b[0;34m(\u001b[0m\u001b[0mX_test\u001b[0m\u001b[0;34m,\u001b[0m\u001b[0mk\u001b[0m\u001b[0;34m=\u001b[0m\u001b[0mk_list\u001b[0m\u001b[0;34m[\u001b[0m\u001b[0midx\u001b[0m\u001b[0;34m]\u001b[0m\u001b[0;34m)\u001b[0m\u001b[0;34m\u001b[0m\u001b[0m\n\u001b[1;32m      4\u001b[0m \u001b[0maccuracy\u001b[0m \u001b[0;34m=\u001b[0m \u001b[0mnp\u001b[0m\u001b[0;34m.\u001b[0m\u001b[0msum\u001b[0m\u001b[0;34m(\u001b[0m\u001b[0my_pred\u001b[0m \u001b[0;34m==\u001b[0m \u001b[0my_test\u001b[0m\u001b[0;34m)\u001b[0m \u001b[0;34m/\u001b[0m \u001b[0my_test\u001b[0m\u001b[0;34m.\u001b[0m\u001b[0mshape\u001b[0m\u001b[0;34m[\u001b[0m\u001b[0;36m0\u001b[0m\u001b[0;34m]\u001b[0m\u001b[0;34m\u001b[0m\u001b[0m\n\u001b[1;32m      5\u001b[0m \u001b[0mprint\u001b[0m\u001b[0;34m(\u001b[0m\u001b[0;34m\"test accuracy \"\u001b[0m\u001b[0;34m,\u001b[0m\u001b[0maccuracy\u001b[0m\u001b[0;34m)\u001b[0m\u001b[0;34m\u001b[0m\u001b[0m\n",
      "\u001b[0;31mNameError\u001b[0m: name 'np' is not defined"
     ]
    }
   ],
   "source": [
    "#test the best k\n",
    "idx = np.argmax(accu_list)\n",
    "y_pred = knn.predict(X_test,k=k_list[idx])\n",
    "accuracy = np.sum(y_pred == y_test) / y_test.shape[0]\n",
    "print(\"test accuracy \",accuracy)"
   ]
  },
  {
   "cell_type": "code",
   "execution_count": null,
   "metadata": {
    "collapsed": true
   },
   "outputs": [],
   "source": []
  }
 ],
 "metadata": {
  "kernelspec": {
   "display_name": "Python 3",
   "language": "python",
   "name": "python3"
  },
  "language_info": {
   "codemirror_mode": {
    "name": "ipython",
    "version": 3
   },
   "file_extension": ".py",
   "mimetype": "text/x-python",
   "name": "python",
   "nbconvert_exporter": "python",
   "pygments_lexer": "ipython3",
   "version": "3.6.3"
  }
 },
 "nbformat": 4,
 "nbformat_minor": 2
}
