{
 "cells": [
  {
   "cell_type": "code",
   "execution_count": 1,
   "metadata": {},
   "outputs": [],
   "source": [
    "import time\n",
    "import pandas as pd\n",
    "import numpy as np\n",
    "from sklearn import preprocessing\n",
    "from sklearn import svm\n",
    "from sklearn.model_selection import train_test_split\n",
    "import matplotlib.pyplot as plt\n",
    "from sklearn.metrics import accuracy_score"
   ]
  },
  {
   "cell_type": "code",
   "execution_count": 2,
   "metadata": {},
   "outputs": [
    {
     "name": "stdout",
     "output_type": "stream",
     "text": [
      "(3918, 13)\n"
     ]
    }
   ],
   "source": [
    "data = pd.read_csv(\"data/winequality.csv\")\n",
    "print(data.shape)\n",
    "X = data.iloc[:,:11]\n",
    "y = data.iloc[:,11]\n",
    "train_X,test_X,train_y,test_y = train_test_split(X, y, random_state=0, test_size=0.15)\n",
    "train_X,val_X,train_y,val_y = train_test_split(train_X,train_y,test_size=0.2,random_state=0)"
   ]
  },
  {
   "cell_type": "code",
   "execution_count": 3,
   "metadata": {},
   "outputs": [
    {
     "name": "stdout",
     "output_type": "stream",
     "text": [
      "C:  1  Kernel:  linear  Accuracy:  0.503003003003003\n"
     ]
    },
    {
     "name": "stderr",
     "output_type": "stream",
     "text": [
      "C:\\Users\\cluah\\Anaconda3\\lib\\site-packages\\sklearn\\svm\\base.py:196: FutureWarning: The default value of gamma will change from 'auto' to 'scale' in version 0.22 to account better for unscaled features. Set gamma explicitly to 'auto' or 'scale' to avoid this warning.\n",
      "  \"avoid this warning.\", FutureWarning)\n"
     ]
    },
    {
     "name": "stdout",
     "output_type": "stream",
     "text": [
      "C:  1  Kernel:  rbf  Accuracy:  0.5330330330330331\n",
      "C:  5  Kernel:  linear  Accuracy:  0.5015015015015015\n"
     ]
    },
    {
     "name": "stderr",
     "output_type": "stream",
     "text": [
      "C:\\Users\\cluah\\Anaconda3\\lib\\site-packages\\sklearn\\svm\\base.py:196: FutureWarning: The default value of gamma will change from 'auto' to 'scale' in version 0.22 to account better for unscaled features. Set gamma explicitly to 'auto' or 'scale' to avoid this warning.\n",
      "  \"avoid this warning.\", FutureWarning)\n"
     ]
    },
    {
     "name": "stdout",
     "output_type": "stream",
     "text": [
      "C:  5  Kernel:  rbf  Accuracy:  0.5435435435435435\n",
      "C:  10  Kernel:  linear  Accuracy:  0.5015015015015015\n"
     ]
    },
    {
     "name": "stderr",
     "output_type": "stream",
     "text": [
      "C:\\Users\\cluah\\Anaconda3\\lib\\site-packages\\sklearn\\svm\\base.py:196: FutureWarning: The default value of gamma will change from 'auto' to 'scale' in version 0.22 to account better for unscaled features. Set gamma explicitly to 'auto' or 'scale' to avoid this warning.\n",
      "  \"avoid this warning.\", FutureWarning)\n"
     ]
    },
    {
     "name": "stdout",
     "output_type": "stream",
     "text": [
      "C:  10  Kernel:  rbf  Accuracy:  0.539039039039039\n",
      "C:  30  Kernel:  linear  Accuracy:  0.506006006006006\n"
     ]
    },
    {
     "name": "stderr",
     "output_type": "stream",
     "text": [
      "C:\\Users\\cluah\\Anaconda3\\lib\\site-packages\\sklearn\\svm\\base.py:196: FutureWarning: The default value of gamma will change from 'auto' to 'scale' in version 0.22 to account better for unscaled features. Set gamma explicitly to 'auto' or 'scale' to avoid this warning.\n",
      "  \"avoid this warning.\", FutureWarning)\n"
     ]
    },
    {
     "name": "stdout",
     "output_type": "stream",
     "text": [
      "C:  30  Kernel:  rbf  Accuracy:  0.5330330330330331\n",
      "C:  50  Kernel:  linear  Accuracy:  0.515015015015015\n"
     ]
    },
    {
     "name": "stderr",
     "output_type": "stream",
     "text": [
      "C:\\Users\\cluah\\Anaconda3\\lib\\site-packages\\sklearn\\svm\\base.py:196: FutureWarning: The default value of gamma will change from 'auto' to 'scale' in version 0.22 to account better for unscaled features. Set gamma explicitly to 'auto' or 'scale' to avoid this warning.\n",
      "  \"avoid this warning.\", FutureWarning)\n"
     ]
    },
    {
     "name": "stdout",
     "output_type": "stream",
     "text": [
      "C:  50  Kernel:  rbf  Accuracy:  0.5330330330330331\n",
      "C:  100  Kernel:  linear  Accuracy:  0.5195195195195195\n"
     ]
    },
    {
     "name": "stderr",
     "output_type": "stream",
     "text": [
      "C:\\Users\\cluah\\Anaconda3\\lib\\site-packages\\sklearn\\svm\\base.py:196: FutureWarning: The default value of gamma will change from 'auto' to 'scale' in version 0.22 to account better for unscaled features. Set gamma explicitly to 'auto' or 'scale' to avoid this warning.\n",
      "  \"avoid this warning.\", FutureWarning)\n"
     ]
    },
    {
     "name": "stdout",
     "output_type": "stream",
     "text": [
      "C:  100  Kernel:  rbf  Accuracy:  0.5330330330330331\n",
      "best info c: 5  k:  rbf  accuracy: 0.5435435435435435\n"
     ]
    }
   ],
   "source": [
    "C_list = [ 1,5, 10, 30,50 ,100]\n",
    "K_list = ['linear','rbf']\n",
    "accuracy = dict()\n",
    "accuracy['linear'] = dict()\n",
    "accuracy['poly'] = dict()\n",
    "accuracy['rbf'] = dict()\n",
    "\n",
    "t_accuracy = dict()\n",
    "t_accuracy['linear'] = dict()\n",
    "t_accuracy['poly'] = dict()\n",
    "t_accuracy['rbf'] = dict()\n",
    "\n",
    "best_info = ()\n",
    "best_accuracy = 0\n",
    "for c in C_list:\n",
    "    for k in K_list:\n",
    "        linear_svm = svm.SVC(kernel=k,C=c)\n",
    "        linear_svm.fit(train_X, train_y)\n",
    "        predictions = linear_svm.predict(val_X)\n",
    "        train_prediction = linear_svm.predict(train_X)\n",
    "    \n",
    "        accu = accuracy_score(predictions,val_y)\n",
    "        t_accu = accuracy_score(train_prediction,train_y)\n",
    "        \n",
    "        accuracy[k][c] = accu\n",
    "        t_accuracy[k][c] = t_accu\n",
    "        \n",
    "        if accu > best_accuracy:\n",
    "            best_accuracy = accu\n",
    "            best_info = (k,c)\n",
    "        print(\"C: \",c,\" Kernel: \",k,\" Accuracy: \",accu)\n",
    "print(\"best info c:\", best_info[1],\" k: \",best_info[0],\" accuracy:\", best_accuracy)"
   ]
  },
  {
   "cell_type": "code",
   "execution_count": 9,
   "metadata": {},
   "outputs": [
    {
     "data": {
      "image/png": "[encoded data removed]",
      "text/plain": [
       "<Figure size 432x288 with 1 Axes>"
      ]
     },
     "metadata": {
      "needs_background": "light"
     },
     "output_type": "display_data"
    }
   ],
   "source": [
    "l = list()\n",
    "p = list()\n",
    "r = list()\n",
    "tl = list()\n",
    "tp = list()\n",
    "tr = list()\n",
    "for c in C_list:\n",
    "    l.append(accuracy['linear'][c])\n",
    "    #p.append(accuracy['poly'][c])\n",
    "    r.append(accuracy['rbf'][c])\n",
    "    tl.append(t_accuracy['linear'][c])\n",
    "    #tp.append(t_accuracy['poly'][c])\n",
    "    tr.append(t_accuracy['rbf'][c])\n",
    "    \n",
    "plt.grid()    \n",
    "plt.plot([1,5,10,30,50 ,100], l, 'b-', label = \"(linear,val)\")\n",
    "#plt.plot([1,5,10,30,50 ,100], p, 'b-', label = \"(poly,val)\")\n",
    "plt.plot([1,5,10,30,50 ,100], r, 'g-', label = \"(rbf,val)\")\n",
    "plt.plot([1,5,10,30,50 ,100], tl, 'b:', label = \"(linear,train)\")\n",
    "#plt.plot([1,5,10,30,50 ,100], tp, 'b:', label = \"(poly,train)\")\n",
    "plt.plot([1,5,10,30,50 ,100], tr, 'g:', label = \"(rbf,train)\")\n",
    "\n",
    "plt.ylabel('Accuracy')\n",
    "plt.xlabel('C parameter')\n",
    "plt.title('Accuracy vs C for different kernels')\n",
    "plt.legend()\n",
    "plt.show()"
   ]
  },
  {
   "cell_type": "code",
   "execution_count": 10,
   "metadata": {},
   "outputs": [
    {
     "name": "stderr",
     "output_type": "stream",
     "text": [
      "C:\\Users\\cluah\\Anaconda3\\lib\\site-packages\\ipykernel_launcher.py:1: DeprecationWarning: time.clock has been deprecated in Python 3.3 and will be removed from Python 3.8: use time.perf_counter or time.process_time instead\n",
      "  \"\"\"Entry point for launching an IPython kernel.\n",
      "C:\\Users\\cluah\\Anaconda3\\lib\\site-packages\\sklearn\\svm\\base.py:196: FutureWarning: The default value of gamma will change from 'auto' to 'scale' in version 0.22 to account better for unscaled features. Set gamma explicitly to 'auto' or 'scale' to avoid this warning.\n",
      "  \"avoid this warning.\", FutureWarning)\n"
     ]
    },
    {
     "name": "stdout",
     "output_type": "stream",
     "text": [
      "svm accuracy:  0.5391156462585034  time used:  1.0297267999994801\n"
     ]
    },
    {
     "name": "stderr",
     "output_type": "stream",
     "text": [
      "C:\\Users\\cluah\\Anaconda3\\lib\\site-packages\\ipykernel_launcher.py:4: DeprecationWarning: time.clock has been deprecated in Python 3.3 and will be removed from Python 3.8: use time.perf_counter or time.process_time instead\n",
      "  after removing the cwd from sys.path.\n"
     ]
    }
   ],
   "source": [
    "start = time.clock()\n",
    "linear_svm = svm.SVC(kernel='rbf',C=best_info[1])\n",
    "linear_svm.fit(train_X, train_y)\n",
    "elapsed = (time.clock() - start)\n",
    "predictions = linear_svm.predict(test_X)\n",
    "accu = accuracy_score(predictions,test_y)\n",
    "print(\"svm accuracy: \",accu,\" time used: \",elapsed)"
   ]
  },
  {
   "cell_type": "code",
   "execution_count": null,
   "metadata": {},
   "outputs": [],
   "source": []
  },
  {
   "cell_type": "code",
   "execution_count": null,
   "metadata": {},
   "outputs": [],
   "source": []
  }
 ],
 "metadata": {
  "kernelspec": {
   "display_name": "Python 3",
   "language": "python",
   "name": "python3"
  },
  "language_info": {
   "codemirror_mode": {
    "name": "ipython",
    "version": 3
   },
   "file_extension": ".py",
   "mimetype": "text/x-python",
   "name": "python",
   "nbconvert_exporter": "python",
   "pygments_lexer": "ipython3",
   "version": "3.7.1"
  }
 },
 "nbformat": 4,
 "nbformat_minor": 2
}
