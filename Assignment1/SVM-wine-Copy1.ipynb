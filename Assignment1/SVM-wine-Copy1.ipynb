{
 "cells": [
  {
   "cell_type": "code",
   "execution_count": 2,
   "metadata": {
    "collapsed": true
   },
   "outputs": [],
   "source": [
    "import pandas as pd\n",
    "import numpy as np\n",
    "from sklearn import preprocessing\n",
    "from sklearn import svm\n",
    "from sklearn.model_selection import train_test_split\n",
    "\n",
    "import matplotlib.pyplot as plt"
   ]
  },
  {
   "cell_type": "code",
   "execution_count": 3,
   "metadata": {},
   "outputs": [
    {
     "name": "stdout",
     "output_type": "stream",
     "text": [
      "(3918, 13)\n"
     ]
    }
   ],
   "source": [
    "data = pd.read_csv(\"data/winequality.csv\")\n",
    "print(data.shape)\n",
    "X = data.iloc[:,:11]\n",
    "y = data.iloc[:,11]\n",
    "train_X,test_X,train_y,test_y = train_test_split(X, y, random_state=0, test_size=0.25)\n"
   ]
  },
  {
   "cell_type": "code",
   "execution_count": 4,
   "metadata": {},
   "outputs": [
    {
     "name": "stdout",
     "output_type": "stream",
     "text": [
      "Accuracy:  0.522448979592\n"
     ]
    }
   ],
   "source": [
    "linear_svm = svm.SVC(kernel='linear')\n",
    "linear_svm.fit(train_X, train_y)\n",
    "predictions = linear_svm.predict(test_X)\n",
    "print(\"Accuracy: \",np.sum(predictions==test_y)/test_y.shape[0])"
   ]
  },
  {
   "cell_type": "code",
   "execution_count": 5,
   "metadata": {},
   "outputs": [
    {
     "name": "stdout",
     "output_type": "stream",
     "text": [
      "Accuracy:  0.508163265306\n",
      "Accuracy:  0.522448979592\n",
      "Accuracy:  0.521428571429\n",
      "Accuracy:  0.527551020408\n",
      "Accuracy:  0.533673469388\n"
     ]
    }
   ],
   "source": [
    "C_list = [0.1, 1, 10, 50 ,100]\n",
    "for c in C_list:\n",
    "    linear_svm = svm.SVC(kernel='linear',C=c)\n",
    "    linear_svm.fit(train_X, train_y)\n",
    "    predictions = linear_svm.predict(test_X)\n",
    "    print(\"Accuracy: \",np.sum(predictions==test_y)/test_y.shape[0])"
   ]
  },
  {
   "cell_type": "code",
   "execution_count": 6,
   "metadata": {
    "collapsed": true
   },
   "outputs": [],
   "source": [
    "rbf_svm = svm.SVC(kernel='rbf', C = 10.0, gamma=0.1)\n",
    "rbf_svm.fit(train_X, train_y)\n",
    "predictions = rbf_svm.predict(test_X)"
   ]
  },
  {
   "cell_type": "code",
   "execution_count": 7,
   "metadata": {
    "collapsed": true
   },
   "outputs": [],
   "source": [
    "poly_svm = svm.SVC(kernel='poly', C = 10.0, gamma=0.1)\n",
    "poly_svm.fit(train_X, train_y)\n",
    "predictions = poly_svm.predict(test_X)"
   ]
  },
  {
   "cell_type": "code",
   "execution_count": 8,
   "metadata": {},
   "outputs": [
    {
     "name": "stdout",
     "output_type": "stream",
     "text": [
      "Accuracy:  0.525510204082\n"
     ]
    }
   ],
   "source": [
    "  print(\"Accuracy: \",np.sum(predictions==test_y)/test_y.shape[0])"
   ]
  },
  {
   "cell_type": "code",
   "execution_count": null,
   "metadata": {
    "collapsed": true
   },
   "outputs": [],
   "source": []
  }
 ],
 "metadata": {
  "kernelspec": {
   "display_name": "Python 3",
   "language": "python",
   "name": "python3"
  },
  "language_info": {
   "codemirror_mode": {
    "name": "ipython",
    "version": 3
   },
   "file_extension": ".py",
   "mimetype": "text/x-python",
   "name": "python",
   "nbconvert_exporter": "python",
   "pygments_lexer": "ipython3",
   "version": "3.7.1"
  }
 },
 "nbformat": 4,
 "nbformat_minor": 2
}
